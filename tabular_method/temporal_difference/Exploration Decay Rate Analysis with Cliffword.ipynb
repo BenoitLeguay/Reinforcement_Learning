{
 "cells": [
  {
   "cell_type": "code",
   "execution_count": 18,
   "metadata": {
    "ExecuteTime": {
     "end_time": "2020-04-23T18:05:51.299134Z",
     "start_time": "2020-04-23T18:05:51.280281Z"
    }
   },
   "outputs": [],
   "source": [
    "import agent as myagents\n",
    "import gym\n",
    "import matplotlib.pyplot as plt\n",
    "from tqdm import tqdm\n",
    "import utils\n",
    "import numpy as np\n",
    "from IPython.display import clear_output\n",
    "import time\n",
    "import gym_CliffWorld"
   ]
  },
  {
   "cell_type": "markdown",
   "metadata": {},
   "source": [
    "### Environment"
   ]
  },
  {
   "cell_type": "code",
   "execution_count": 19,
   "metadata": {
    "ExecuteTime": {
     "end_time": "2020-04-23T18:05:51.614451Z",
     "start_time": "2020-04-23T18:05:51.611115Z"
    }
   },
   "outputs": [],
   "source": [
    "env = gym.make('cliff_world-v0')"
   ]
  },
  {
   "cell_type": "markdown",
   "metadata": {},
   "source": [
    "### Agent"
   ]
  },
  {
   "cell_type": "markdown",
   "metadata": {},
   "source": [
    "#### Markovian decision process interpretation"
   ]
  },
  {
   "cell_type": "code",
   "execution_count": 20,
   "metadata": {
    "ExecuteTime": {
     "end_time": "2020-04-23T18:05:52.079121Z",
     "start_time": "2020-04-23T18:05:52.062550Z"
    }
   },
   "outputs": [],
   "source": [
    "num_action, num_state = env.action_space, env.state_space"
   ]
  },
  {
   "cell_type": "markdown",
   "metadata": {},
   "source": [
    "#### Constant Exploration Rate"
   ]
  },
  {
   "cell_type": "code",
   "execution_count": 21,
   "metadata": {
    "ExecuteTime": {
     "end_time": "2020-04-23T18:05:52.534984Z",
     "start_time": "2020-04-23T18:05:52.527492Z"
    }
   },
   "outputs": [],
   "source": [
    "agent_init = {\n",
    "    'discount_factor': 1, \n",
    "    'learning_rate': 0.02, \n",
    "    'exploration_rate_decay': {\n",
    "        'er': 0.1,\n",
    "        'max_er': 1,\n",
    "        'min_er': 0.0,\n",
    "        'decay_er': 0.05,\n",
    "        'constant_er': True\n",
    "    },\n",
    "    'trace_decay': 0.9,\n",
    "    'num_action': env.action_space,\n",
    "    'num_state': env.state_space,\n",
    "}\n",
    "q_learning_agent = myagents.QLearningAgent(agent_init)"
   ]
  },
  {
   "cell_type": "markdown",
   "metadata": {},
   "source": [
    "#### Exploration Rate Decay"
   ]
  },
  {
   "cell_type": "code",
   "execution_count": 22,
   "metadata": {
    "ExecuteTime": {
     "end_time": "2020-04-23T18:05:53.183012Z",
     "start_time": "2020-04-23T18:05:53.170275Z"
    }
   },
   "outputs": [],
   "source": [
    "agent_init = {\n",
    "    'discount_factor': 1, \n",
    "    'learning_rate': 0.02, \n",
    "    'exploration_rate_decay': {\n",
    "        'er': 0.1,\n",
    "        'max_er': 1,\n",
    "        'min_er': 0.0,\n",
    "        'decay_er': 0.005,\n",
    "        'constant_er': True\n",
    "    },\n",
    "    'trace_decay': 0.9,\n",
    "    'num_action': env.action_space,\n",
    "    'num_state': env.state_space,\n",
    "}\n",
    "expected_sarsa_agent = myagents.ExpectedSarsaAgent(agent_init) "
   ]
  },
  {
   "cell_type": "markdown",
   "metadata": {},
   "source": [
    "### Training"
   ]
  },
  {
   "cell_type": "code",
   "execution_count": 23,
   "metadata": {
    "ExecuteTime": {
     "end_time": "2020-04-23T18:05:53.766616Z",
     "start_time": "2020-04-23T18:05:53.756649Z"
    }
   },
   "outputs": [],
   "source": [
    "\n",
    "n_episode = 50000\n",
    "t_max_per_episode = 500\n",
    "verbose = False\n",
    "graphical = False\n",
    "agents = {\n",
    "    'q_learning_agent': q_learning_agent,\n",
    "    'expected_sarsa_agent': expected_sarsa_agent,\n",
    "    \n",
    "}\n",
    "rewards_per_episode_per_agent = {\n",
    "    'q_learning_agent': list(),\n",
    "    'expected_sarsa_agent': list()\n",
    "    \n",
    "}\n",
    "rewards_per_episode_per_agent_array = {\n",
    "    'q_learning_agent': np.array([]),\n",
    "    'expected_sarsa_agent': np.array([])\n",
    "    \n",
    "}\n",
    "rewards_per_episode_array = np.array([])"
   ]
  },
  {
   "cell_type": "code",
   "execution_count": 24,
   "metadata": {
    "ExecuteTime": {
     "end_time": "2020-04-23T18:07:04.931079Z",
     "start_time": "2020-04-23T18:05:54.080318Z"
    }
   },
   "outputs": [
    {
     "name": "stderr",
     "output_type": "stream",
     "text": [
      "100%|██████████| 50000/50000 [00:12<00:00, 3936.21it/s]\n",
      "100%|██████████| 50000/50000 [00:58<00:00, 860.37it/s]\n"
     ]
    }
   ],
   "source": [
    "for agent_name, agent in agents.items():\n",
    "\n",
    "    for i_episode in tqdm(range(n_episode)):\n",
    "\n",
    "        rewards = 0\n",
    "        state = env.reset()\n",
    "        if type(state) is tuple: \n",
    "            state = np.ravel_multi_index(state, state_dim)\n",
    "        next_action = agent.episode_init(state)\n",
    "\n",
    "        for t in range(t_max_per_episode):\n",
    "\n",
    "            if graphical:\n",
    "                clear_output(wait=True)\n",
    "                env.render()\n",
    "\n",
    "\n",
    "            state, reward, done, info = env.step(next_action)\n",
    "            \n",
    "            if type(state) is tuple: \n",
    "                state = np.ravel_multi_index(state, state_dim)\n",
    "                \n",
    "            next_action = agent.update(state, reward, done)\n",
    "\n",
    "            rewards += reward\n",
    "            if done:\n",
    "                break\n",
    "\n",
    "        rewards_per_episode_per_agent[agent_name].append(rewards)\n",
    "        agent.epsilon.next()\n",
    "\n",
    "    agent.epsilon.reset_episode_count()\n",
    "    \n",
    "env.close()"
   ]
  },
  {
   "cell_type": "markdown",
   "metadata": {},
   "source": [
    "### Analysis"
   ]
  },
  {
   "cell_type": "code",
   "execution_count": 25,
   "metadata": {
    "ExecuteTime": {
     "end_time": "2020-04-23T18:07:05.089291Z",
     "start_time": "2020-04-23T18:07:05.080505Z"
    }
   },
   "outputs": [],
   "source": [
    "for array_name, array in rewards_per_episode_per_agent_array.items():\n",
    "    rewards_per_episode_per_agent_array[array_name] = np.concatenate(\n",
    "        [rewards_per_episode_per_agent_array[array_name], \n",
    "         np.array(rewards_per_episode_per_agent[array_name])]\n",
    "    )\n"
   ]
  },
  {
   "cell_type": "code",
   "execution_count": 26,
   "metadata": {
    "ExecuteTime": {
     "end_time": "2020-04-23T18:07:05.858645Z",
     "start_time": "2020-04-23T18:07:05.249278Z"
    }
   },
   "outputs": [
    {
     "data": {
      "text/plain": [
       "<matplotlib.legend.Legend at 0x7f1467e406a0>"
      ]
     },
     "execution_count": 26,
     "metadata": {},
     "output_type": "execute_result"
    },
    {
     "data": {
      "image/png": "[encoded data removed]",
      "text/plain": [
       "<Figure size 432x288 with 1 Axes>"
      ]
     },
     "metadata": {
      "needs_background": "light"
     },
     "output_type": "display_data"
    }
   ],
   "source": [
    "for agent_name, rewards_per_episode_array in rewards_per_episode_per_agent_array.items():\n",
    "    \n",
    "    rewards_per_episode_rolling_mean = utils.moving_average(rewards_per_episode_array, n=500)\n",
    "    plt.plot(range(len(rewards_per_episode_rolling_mean)), \n",
    "             rewards_per_episode_rolling_mean,\n",
    "            label=agent_name)\n",
    "\n",
    "plt.legend()"
   ]
  },
  {
   "cell_type": "markdown",
   "metadata": {
    "ExecuteTime": {
     "end_time": "2020-04-22T20:12:28.544849Z",
     "start_time": "2020-04-22T20:12:28.528562Z"
    }
   },
   "source": [
    "#### HEATMAP"
   ]
  },
  {
   "cell_type": "code",
   "execution_count": 27,
   "metadata": {
    "ExecuteTime": {
     "end_time": "2020-04-23T18:07:06.027594Z",
     "start_time": "2020-04-23T18:07:06.021754Z"
    }
   },
   "outputs": [],
   "source": [
    "import seaborn as sb"
   ]
  },
  {
   "cell_type": "code",
   "execution_count": 28,
   "metadata": {
    "ExecuteTime": {
     "end_time": "2020-04-23T18:07:06.570855Z",
     "start_time": "2020-04-23T18:07:06.206519Z"
    }
   },
   "outputs": [
    {
     "data": {
      "text/plain": [
       "<matplotlib.axes._subplots.AxesSubplot at 0x7f1467e4bac8>"
      ]
     },
     "execution_count": 28,
     "metadata": {},
     "output_type": "execute_result"
    },
    {
     "data": {
      "image/png": "[encoded data removed]",
      "text/plain": [
       "<Figure size 432x288 with 2 Axes>"
      ]
     },
     "metadata": {
      "needs_background": "light"
     },
     "output_type": "display_data"
    }
   ],
   "source": [
    "sb.heatmap(agents[\"q_learning_agent\"].q.reshape(4, 4, 12).mean(axis=0))"
   ]
  },
  {
   "cell_type": "code",
   "execution_count": 29,
   "metadata": {
    "ExecuteTime": {
     "end_time": "2020-04-23T18:07:07.086300Z",
     "start_time": "2020-04-23T18:07:06.756395Z"
    }
   },
   "outputs": [
    {
     "data": {
      "text/plain": [
       "<matplotlib.axes._subplots.AxesSubplot at 0x7f14673026d8>"
      ]
     },
     "execution_count": 29,
     "metadata": {},
     "output_type": "execute_result"
    },
    {
     "data": {
      "image/png": "[encoded data removed]",
      "text/plain": [
       "<Figure size 432x288 with 2 Axes>"
      ]
     },
     "metadata": {
      "needs_background": "light"
     },
     "output_type": "display_data"
    }
   ],
   "source": [
    "sb.heatmap(agents[\"expected_sarsa_agent\"].q.reshape(4, 4, 12).mean(axis=0))"
   ]
  },
  {
   "cell_type": "markdown",
   "metadata": {
    "ExecuteTime": {
     "end_time": "2020-04-22T22:16:45.264027Z",
     "start_time": "2020-04-22T22:15:53.659988Z"
    }
   },
   "source": [
    "### TESTING"
   ]
  },
  {
   "cell_type": "code",
   "execution_count": 30,
   "metadata": {
    "ExecuteTime": {
     "end_time": "2020-04-23T18:07:07.264409Z",
     "start_time": "2020-04-23T18:07:07.260607Z"
    }
   },
   "outputs": [],
   "source": [
    "n_episode_test = 4\n",
    "agent_to_test = agents[\"expected_sarsa_agent\"]\n",
    "graphical = True"
   ]
  },
  {
   "cell_type": "code",
   "execution_count": 31,
   "metadata": {
    "ExecuteTime": {
     "end_time": "2020-04-23T18:07:27.150087Z",
     "start_time": "2020-04-23T18:07:14.650072Z"
    }
   },
   "outputs": [
    {
     "name": "stdout",
     "output_type": "stream",
     "text": [
      "SXXXXXXXXXXG\n",
      "___________T\n",
      "____________\n",
      "____________\n"
     ]
    }
   ],
   "source": [
    "for i_episode in range(n_episode_test):\n",
    "    \n",
    "    rewards = 0\n",
    "    state = env.reset()\n",
    "    next_action = agent_to_test.episode_init(state)\n",
    "    \n",
    "    for t in range(t_max_per_episode):\n",
    "        \n",
    "        if graphical:\n",
    "            clear_output(wait=True)\n",
    "            env.render()\n",
    "            time.sleep(0.2)\n",
    "            \n",
    "        \n",
    "        state, reward, done, info = env.step(next_action)\n",
    "        next_action = agent_to_test.e_greedy(state, always_greedy=True)\n",
    "        if done:\n",
    "            break\n",
    "\n",
    "agent_to_test.epsilon.reset_episode_count()\n",
    "env.close()"
   ]
  },
  {
   "cell_type": "code",
   "execution_count": null,
   "metadata": {},
   "outputs": [],
   "source": []
  }
 ],
 "metadata": {
  "kernelspec": {
   "display_name": "Python 3",
   "language": "python",
   "name": "python3"
  },
  "language_info": {
   "codemirror_mode": {
    "name": "ipython",
    "version": 3
   },
   "file_extension": ".py",
   "mimetype": "text/x-python",
   "name": "python",
   "nbconvert_exporter": "python",
   "pygments_lexer": "ipython3",
   "version": "3.6.8"
  },
  "toc": {
   "base_numbering": 1,
   "nav_menu": {},
   "number_sections": true,
   "sideBar": true,
   "skip_h1_title": false,
   "title_cell": "Table of Contents",
   "title_sidebar": "Contents",
   "toc_cell": false,
   "toc_position": {},
   "toc_section_display": true,
   "toc_window_display": false
  },
  "varInspector": {
   "cols": {
    "lenName": 16,
    "lenType": 16,
    "lenVar": 40
   },
   "kernels_config": {
    "python": {
     "delete_cmd_postfix": "",
     "delete_cmd_prefix": "del ",
     "library": "var_list.py",
     "varRefreshCmd": "print(var_dic_list())"
    },
    "r": {
     "delete_cmd_postfix": ") ",
     "delete_cmd_prefix": "rm(",
     "library": "var_list.r",
     "varRefreshCmd": "cat(var_dic_list()) "
    }
   },
   "types_to_exclude": [
    "module",
    "function",
    "builtin_function_or_method",
    "instance",
    "_Feature"
   ],
   "window_display": false
  }
 },
 "nbformat": 4,
 "nbformat_minor": 2
}

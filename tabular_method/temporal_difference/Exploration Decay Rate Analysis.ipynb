{
 "cells": [
  {
   "cell_type": "code",
   "execution_count": 1,
   "metadata": {
    "ExecuteTime": {
     "end_time": "2020-04-23T02:08:41.319406Z",
     "start_time": "2020-04-23T02:08:41.045049Z"
    }
   },
   "outputs": [],
   "source": [
    "import agent as myagents\n",
    "import gym\n",
    "import matplotlib.pyplot as plt\n",
    "from tqdm import tqdm\n",
    "import utils\n",
    "import numpy as np\n",
    "from IPython.display import clear_output\n",
    "import time"
   ]
  },
  {
   "cell_type": "markdown",
   "metadata": {},
   "source": [
    "### Environment"
   ]
  },
  {
   "cell_type": "code",
   "execution_count": 2,
   "metadata": {
    "ExecuteTime": {
     "end_time": "2020-04-23T02:08:41.865405Z",
     "start_time": "2020-04-23T02:08:41.549495Z"
    }
   },
   "outputs": [],
   "source": [
    "env_name = \"Blackjack-v0\" #\"FrozenLake8x8-v0\"\n",
    "env = gym.make(env_name)"
   ]
  },
  {
   "cell_type": "markdown",
   "metadata": {},
   "source": [
    "### Agent"
   ]
  },
  {
   "cell_type": "markdown",
   "metadata": {},
   "source": [
    "#### Markovian decision process interpretation"
   ]
  },
  {
   "cell_type": "code",
   "execution_count": 3,
   "metadata": {
    "ExecuteTime": {
     "end_time": "2020-04-23T02:08:42.280519Z",
     "start_time": "2020-04-23T02:08:42.273425Z"
    }
   },
   "outputs": [
    {
     "name": "stdout",
     "output_type": "stream",
     "text": [
      "states dimension in 1-D: 704\n",
      "states dimension in 3-D: [32, 11, 2]\n"
     ]
    }
   ],
   "source": [
    "if env_name == \"FrozenLake8x8-v0\":\n",
    "    num_action = env.action_space.n\n",
    "    num_state = env.observation_space.n\n",
    "    state_dim = [env.observation_space.n]\n",
    "    \n",
    "elif env_name == \"Blackjack-v0\":\n",
    "    num_action = env.action_space.n\n",
    "\n",
    "    num_state = 1\n",
    "    state_dim = list()\n",
    "\n",
    "    for space in env.observation_space.spaces:\n",
    "        num_state *= space.n\n",
    "        state_dim.append(space.n)\n",
    "\n",
    "    print(f\"states dimension in 1-D: {int(num_state)}\\nstates dimension in 3-D: {state_dim}\")"
   ]
  },
  {
   "cell_type": "markdown",
   "metadata": {},
   "source": [
    "#### Constant Exploration Rate"
   ]
  },
  {
   "cell_type": "code",
   "execution_count": 121,
   "metadata": {
    "ExecuteTime": {
     "end_time": "2020-04-23T02:27:07.473937Z",
     "start_time": "2020-04-23T02:27:07.449231Z"
    }
   },
   "outputs": [],
   "source": [
    "agent_init = {\n",
    "    'discount_factor': .999, \n",
    "    'learning_rate': 0.2, \n",
    "    'exploration_rate_decay': {\n",
    "        'er': 0.1,\n",
    "        'max_er': 1,\n",
    "        'min_er': 0.0,\n",
    "        'decay_er': 1e-02,\n",
    "        'constant_er': True\n",
    "    },\n",
    "    'num_action': num_action,\n",
    "    'num_state': num_state,\n",
    "}\n",
    "qla_er_constant = myagents.QLearningAgent(agent_init)"
   ]
  },
  {
   "cell_type": "markdown",
   "metadata": {},
   "source": [
    "#### Exploration Rate Decay"
   ]
  },
  {
   "cell_type": "code",
   "execution_count": 122,
   "metadata": {
    "ExecuteTime": {
     "end_time": "2020-04-23T02:27:07.913917Z",
     "start_time": "2020-04-23T02:27:07.903082Z"
    }
   },
   "outputs": [],
   "source": [
    "agent_init = {\n",
    "    'discount_factor': .999, \n",
    "    'learning_rate': 0.2, \n",
    "    'exploration_rate_decay': {\n",
    "        'er': 1,\n",
    "        'max_er': 1,\n",
    "        'min_er': 0.0,\n",
    "        'decay_er': 1e-02,\n",
    "        'constant_er': False\n",
    "    },\n",
    "    'num_action': num_action,\n",
    "    'num_state': num_state,\n",
    "}\n",
    "qla_er_decay = myagents.QLearningAgent(agent_init)"
   ]
  },
  {
   "cell_type": "markdown",
   "metadata": {},
   "source": [
    "### Training"
   ]
  },
  {
   "cell_type": "code",
   "execution_count": 123,
   "metadata": {
    "ExecuteTime": {
     "end_time": "2020-04-23T02:27:08.512245Z",
     "start_time": "2020-04-23T02:27:08.498383Z"
    }
   },
   "outputs": [],
   "source": [
    "\n",
    "n_episode = 20000\n",
    "t_max_per_episode = 500\n",
    "verbose = False\n",
    "graphical = False\n",
    "agents = {\n",
    "    'qla_er_decay': qla_er_decay,\n",
    "    'qla_er_constant': qla_er_constant,\n",
    "    \n",
    "}\n",
    "rewards_per_episode_per_agent = {\n",
    "    'qla_er_decay': list(),\n",
    "    'qla_er_constant': list()\n",
    "    \n",
    "}\n",
    "rewards_per_episode_per_agent_array = {\n",
    "    'qla_er_decay': np.array([]),\n",
    "    'qla_er_constant': np.array([])\n",
    "    \n",
    "}\n",
    "rewards_per_episode_array = np.array([])"
   ]
  },
  {
   "cell_type": "code",
   "execution_count": 124,
   "metadata": {
    "ExecuteTime": {
     "end_time": "2020-04-23T02:27:12.799288Z",
     "start_time": "2020-04-23T02:27:08.885560Z"
    }
   },
   "outputs": [
    {
     "name": "stderr",
     "output_type": "stream",
     "text": [
      "100%|██████████| 20000/20000 [00:02<00:00, 9411.31it/s] \n",
      "100%|██████████| 20000/20000 [00:01<00:00, 11451.85it/s]\n"
     ]
    }
   ],
   "source": [
    "for agent_name, agent in agents.items():\n",
    "\n",
    "    for i_episode in tqdm(range(n_episode)):\n",
    "\n",
    "        rewards = 0\n",
    "        state = env.reset()\n",
    "        if type(state) is tuple: \n",
    "            state = np.ravel_multi_index(state, state_dim)\n",
    "        next_action = agent.episode_init(state)\n",
    "\n",
    "        for t in range(t_max_per_episode):\n",
    "\n",
    "            if graphical:\n",
    "                clear_output(wait=True)\n",
    "                env.render()\n",
    "\n",
    "\n",
    "            state, reward, done, info = env.step(next_action)\n",
    "            \n",
    "            if type(state) is tuple: \n",
    "                state = np.ravel_multi_index(state, state_dim)\n",
    "                \n",
    "            next_action = agent.update(state, reward, done)\n",
    "\n",
    "            rewards += reward\n",
    "            if done:\n",
    "                break\n",
    "\n",
    "        rewards_per_episode_per_agent[agent_name].append(rewards)\n",
    "        agent.epsilon.next()\n",
    "\n",
    "    agent.epsilon.reset_episode_count()\n",
    "    \n",
    "env.close()"
   ]
  },
  {
   "cell_type": "markdown",
   "metadata": {},
   "source": [
    "### Analysis"
   ]
  },
  {
   "cell_type": "code",
   "execution_count": 125,
   "metadata": {
    "ExecuteTime": {
     "end_time": "2020-04-23T02:27:14.333813Z",
     "start_time": "2020-04-23T02:27:14.314203Z"
    }
   },
   "outputs": [],
   "source": [
    "for array_name, array in rewards_per_episode_per_agent_array.items():\n",
    "    rewards_per_episode_per_agent_array[array_name] = np.concatenate(\n",
    "        [rewards_per_episode_per_agent_array[array_name], \n",
    "         np.array(rewards_per_episode_per_agent[array_name])]\n",
    "    )\n"
   ]
  },
  {
   "cell_type": "code",
   "execution_count": 126,
   "metadata": {
    "ExecuteTime": {
     "end_time": "2020-04-23T02:27:15.134952Z",
     "start_time": "2020-04-23T02:27:14.599268Z"
    }
   },
   "outputs": [
    {
     "data": {
      "text/plain": [
       "<matplotlib.legend.Legend at 0x7efffc54fc50>"
      ]
     },
     "execution_count": 126,
     "metadata": {},
     "output_type": "execute_result"
    },
    {
     "data": {
      "image/png": "[encoded data removed]",
      "text/plain": [
       "<Figure size 432x288 with 1 Axes>"
      ]
     },
     "metadata": {
      "needs_background": "light"
     },
     "output_type": "display_data"
    }
   ],
   "source": [
    "for agent_name, rewards_per_episode_array in rewards_per_episode_per_agent_array.items():\n",
    "    \n",
    "    rewards_per_episode_rolling_mean = utils.moving_average(rewards_per_episode_array, n=1000)\n",
    "    plt.plot(range(len(rewards_per_episode_rolling_mean)), \n",
    "             rewards_per_episode_rolling_mean,\n",
    "            label=agent_name)\n",
    "\n",
    "plt.legend()"
   ]
  },
  {
   "cell_type": "markdown",
   "metadata": {
    "ExecuteTime": {
     "end_time": "2020-04-22T20:12:28.544849Z",
     "start_time": "2020-04-22T20:12:28.528562Z"
    }
   },
   "source": [
    "### Testing"
   ]
  },
  {
   "cell_type": "code",
   "execution_count": 73,
   "metadata": {
    "ExecuteTime": {
     "end_time": "2020-04-22T20:32:05.241862Z",
     "start_time": "2020-04-22T20:32:05.228660Z"
    }
   },
   "outputs": [],
   "source": [
    "sarsa_agent.epsilon = 0.0"
   ]
  },
  {
   "cell_type": "code",
   "execution_count": 16,
   "metadata": {
    "ExecuteTime": {
     "end_time": "2020-04-22T22:16:45.264027Z",
     "start_time": "2020-04-22T22:15:53.659988Z"
    }
   },
   "outputs": [
    {
     "name": "stdout",
     "output_type": "stream",
     "text": [
      "  (Right)\n",
      "SFFFFFFF\n",
      "FFFFFFFF\n",
      "FFFHFFFF\n",
      "FFFFFHFF\n",
      "FFFHFFFF\n",
      "FHHFFFHF\n",
      "FHFFHFH\u001b[41mF\u001b[0m\n",
      "FFFHFFFG\n"
     ]
    }
   ],
   "source": [
    "for i_episode in range(1):\n",
    "    \n",
    "    rewards = 0\n",
    "    state = env.reset()\n",
    "    next_action = sarsa_agent.episode_init(state)\n",
    "    \n",
    "    for t in range(t_max_per_episode):\n",
    "        \n",
    "        clear_output(wait=True)\n",
    "        env.render()\n",
    "        time.sleep(0.3)  \n",
    "        state, _, done, _ = env.step(next_action)\n",
    "        next_action = sarsa_agent.e_greedy(state)\n",
    "        \n",
    "        if done:\n",
    "            break\n",
    "    \n",
    "env.close()"
   ]
  },
  {
   "cell_type": "code",
   "execution_count": null,
   "metadata": {},
   "outputs": [],
   "source": []
  }
 ],
 "metadata": {
  "kernelspec": {
   "display_name": "Python 3",
   "language": "python",
   "name": "python3"
  },
  "language_info": {
   "codemirror_mode": {
    "name": "ipython",
    "version": 3
   },
   "file_extension": ".py",
   "mimetype": "text/x-python",
   "name": "python",
   "nbconvert_exporter": "python",
   "pygments_lexer": "ipython3",
   "version": "3.6.8"
  },
  "toc": {
   "base_numbering": 1,
   "nav_menu": {},
   "number_sections": true,
   "sideBar": true,
   "skip_h1_title": false,
   "title_cell": "Table of Contents",
   "title_sidebar": "Contents",
   "toc_cell": false,
   "toc_position": {},
   "toc_section_display": true,
   "toc_window_display": false
  },
  "varInspector": {
   "cols": {
    "lenName": 16,
    "lenType": 16,
    "lenVar": 40
   },
   "kernels_config": {
    "python": {
     "delete_cmd_postfix": "",
     "delete_cmd_prefix": "del ",
     "library": "var_list.py",
     "varRefreshCmd": "print(var_dic_list())"
    },
    "r": {
     "delete_cmd_postfix": ") ",
     "delete_cmd_prefix": "rm(",
     "library": "var_list.r",
     "varRefreshCmd": "cat(var_dic_list()) "
    }
   },
   "types_to_exclude": [
    "module",
    "function",
    "builtin_function_or_method",
    "instance",
    "_Feature"
   ],
   "window_display": false
  }
 },
 "nbformat": 4,
 "nbformat_minor": 2
}

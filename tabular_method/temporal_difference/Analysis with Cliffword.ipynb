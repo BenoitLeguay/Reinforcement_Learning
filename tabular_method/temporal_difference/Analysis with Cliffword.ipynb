{
 "cells": [
  {
   "cell_type": "code",
   "execution_count": 18,
   "metadata": {
    "ExecuteTime": {
     "end_time": "2020-04-23T18:05:51.299134Z",
     "start_time": "2020-04-23T18:05:51.280281Z"
    }
   },
   "outputs": [],
   "source": [
    "import agent as myagents\n",
    "import gym\n",
    "import matplotlib.pyplot as plt\n",
    "from tqdm import tqdm\n",
    "import utils\n",
    "import numpy as np\n",
    "from IPython.display import clear_output\n",
    "import time\n",
    "import gym_CliffWorld"
   ]
  },
  {
   "cell_type": "markdown",
   "metadata": {},
   "source": [
    "### Environment"
   ]
  },
  {
   "cell_type": "code",
   "execution_count": 19,
   "metadata": {
    "ExecuteTime": {
     "end_time": "2020-04-23T18:05:51.614451Z",
     "start_time": "2020-04-23T18:05:51.611115Z"
    }
   },
   "outputs": [],
   "source": [
    "env = gym.make('cliff_world-v0')"
   ]
  },
  {
   "cell_type": "markdown",
   "metadata": {},
   "source": [
    "### Agent"
   ]
  },
  {
   "cell_type": "markdown",
   "metadata": {},
   "source": [
    "#### Markovian decision process interpretation"
   ]
  },
  {
   "cell_type": "code",
   "execution_count": 20,
   "metadata": {
    "ExecuteTime": {
     "end_time": "2020-04-23T18:05:52.079121Z",
     "start_time": "2020-04-23T18:05:52.062550Z"
    }
   },
   "outputs": [],
   "source": [
    "num_action, num_state = env.action_space, env.state_space"
   ]
  },
  {
   "cell_type": "markdown",
   "metadata": {},
   "source": [
    "#### Constant Exploration Rate"
   ]
  },
  {
   "cell_type": "code",
   "execution_count": 32,
   "metadata": {
    "ExecuteTime": {
     "end_time": "2020-04-23T18:50:44.382244Z",
     "start_time": "2020-04-23T18:50:44.376656Z"
    }
   },
   "outputs": [],
   "source": [
    "agent_init = {\n",
    "    'discount_factor': 1, \n",
    "    'learning_rate': 0.02, \n",
    "    'exploration_rate_decay': {\n",
    "        'er': 0.1,\n",
    "        'max_er': 1,\n",
    "        'min_er': 0.0,\n",
    "        'decay_er': 0.05,\n",
    "        'constant_er': True\n",
    "    },\n",
    "    'trace_decay': 0.9,\n",
    "    'num_action': env.action_space,\n",
    "    'num_state': env.state_space,\n",
    "}\n",
    "q_learning_agent = myagents.SarsaLambdaAgent(agent_init)"
   ]
  },
  {
   "cell_type": "markdown",
   "metadata": {},
   "source": [
    "#### Exploration Rate Decay"
   ]
  },
  {
   "cell_type": "code",
   "execution_count": 33,
   "metadata": {
    "ExecuteTime": {
     "end_time": "2020-04-23T18:50:45.155327Z",
     "start_time": "2020-04-23T18:50:45.141317Z"
    }
   },
   "outputs": [],
   "source": [
    "agent_init = {\n",
    "    'discount_factor': 1, \n",
    "    'learning_rate': 0.02, \n",
    "    'exploration_rate_decay': {\n",
    "        'er': 0.1,\n",
    "        'max_er': 1,\n",
    "        'min_er': 0.0,\n",
    "        'decay_er': 0.005,\n",
    "        'constant_er': True\n",
    "    },\n",
    "    'trace_decay': 0.9,\n",
    "    'num_action': env.action_space,\n",
    "    'num_state': env.state_space,\n",
    "}\n",
    "expected_sarsa_agent = myagents.ExpectedSarsaAgent(agent_init) "
   ]
  },
  {
   "cell_type": "markdown",
   "metadata": {},
   "source": [
    "### Training"
   ]
  },
  {
   "cell_type": "code",
   "execution_count": 34,
   "metadata": {
    "ExecuteTime": {
     "end_time": "2020-04-23T18:50:45.712897Z",
     "start_time": "2020-04-23T18:50:45.699065Z"
    }
   },
   "outputs": [],
   "source": [
    "n_episode = 50000\n",
    "t_max_per_episode = 500\n",
    "verbose = False\n",
    "graphical = False\n",
    "agents = {\n",
    "    'q_learning_agent': q_learning_agent,\n",
    "    'expected_sarsa_agent': expected_sarsa_agent,\n",
    "    \n",
    "}\n",
    "rewards_per_episode_per_agent = {\n",
    "    'q_learning_agent': list(),\n",
    "    'expected_sarsa_agent': list()\n",
    "    \n",
    "}\n",
    "rewards_per_episode_per_agent_array = {\n",
    "    'q_learning_agent': np.array([]),\n",
    "    'expected_sarsa_agent': np.array([])\n",
    "    \n",
    "}\n",
    "rewards_per_episode_array = np.array([])"
   ]
  },
  {
   "cell_type": "code",
   "execution_count": 35,
   "metadata": {
    "ExecuteTime": {
     "end_time": "2020-04-23T18:57:45.885765Z",
     "start_time": "2020-04-23T18:50:46.069517Z"
    }
   },
   "outputs": [
    {
     "name": "stderr",
     "output_type": "stream",
     "text": [
      "100%|██████████| 50000/50000 [06:02<00:00, 137.85it/s]\n",
      "100%|██████████| 50000/50000 [00:57<00:00, 875.83it/s] \n"
     ]
    }
   ],
   "source": [
    "for agent_name, agent in agents.items():\n",
    "\n",
    "    for i_episode in tqdm(range(n_episode)):\n",
    "\n",
    "        rewards = 0\n",
    "        state = env.reset()\n",
    "        if type(state) is tuple: \n",
    "            state = np.ravel_multi_index(state, state_dim)\n",
    "        next_action = agent.episode_init(state)\n",
    "\n",
    "        for t in range(t_max_per_episode):\n",
    "\n",
    "            if graphical:\n",
    "                clear_output(wait=True)\n",
    "                env.render()\n",
    "\n",
    "\n",
    "            state, reward, done, info = env.step(next_action)\n",
    "            \n",
    "            if type(state) is tuple: \n",
    "                state = np.ravel_multi_index(state, state_dim)\n",
    "                \n",
    "            next_action = agent.update(state, reward, done)\n",
    "\n",
    "            rewards += reward\n",
    "            if done:\n",
    "                break\n",
    "\n",
    "        rewards_per_episode_per_agent[agent_name].append(rewards)\n",
    "        agent.epsilon.next()\n",
    "\n",
    "    agent.epsilon.reset_episode_count()\n",
    "    \n",
    "env.close()"
   ]
  },
  {
   "cell_type": "markdown",
   "metadata": {},
   "source": [
    "### Analysis"
   ]
  },
  {
   "cell_type": "code",
   "execution_count": 36,
   "metadata": {
    "ExecuteTime": {
     "end_time": "2020-04-23T18:57:45.916961Z",
     "start_time": "2020-04-23T18:57:45.909125Z"
    }
   },
   "outputs": [],
   "source": [
    "for array_name, array in rewards_per_episode_per_agent_array.items():\n",
    "    rewards_per_episode_per_agent_array[array_name] = np.concatenate(\n",
    "        [rewards_per_episode_per_agent_array[array_name], \n",
    "         np.array(rewards_per_episode_per_agent[array_name])]\n",
    "    )\n"
   ]
  },
  {
   "cell_type": "code",
   "execution_count": 37,
   "metadata": {
    "ExecuteTime": {
     "end_time": "2020-04-23T18:57:46.650995Z",
     "start_time": "2020-04-23T18:57:45.944749Z"
    }
   },
   "outputs": [
    {
     "data": {
      "text/plain": [
       "<matplotlib.legend.Legend at 0x7f1467380278>"
      ]
     },
     "execution_count": 37,
     "metadata": {},
     "output_type": "execute_result"
    },
    {
     "data": {
      "image/png": "[encoded data removed]",
      "text/plain": [
       "<Figure size 432x288 with 1 Axes>"
      ]
     },
     "metadata": {
      "needs_background": "light"
     },
     "output_type": "display_data"
    }
   ],
   "source": [
    "for agent_name, rewards_per_episode_array in rewards_per_episode_per_agent_array.items():\n",
    "    \n",
    "    rewards_per_episode_rolling_mean = utils.moving_average(rewards_per_episode_array, n=500)\n",
    "    plt.plot(range(len(rewards_per_episode_rolling_mean)), \n",
    "             rewards_per_episode_rolling_mean,\n",
    "            label=agent_name)\n",
    "\n",
    "plt.legend()"
   ]
  },
  {
   "cell_type": "markdown",
   "metadata": {
    "ExecuteTime": {
     "end_time": "2020-04-22T20:12:28.544849Z",
     "start_time": "2020-04-22T20:12:28.528562Z"
    }
   },
   "source": [
    "#### HEATMAP"
   ]
  },
  {
   "cell_type": "code",
   "execution_count": 38,
   "metadata": {
    "ExecuteTime": {
     "end_time": "2020-04-23T18:57:46.724011Z",
     "start_time": "2020-04-23T18:57:46.704621Z"
    }
   },
   "outputs": [],
   "source": [
    "import seaborn as sb"
   ]
  },
  {
   "cell_type": "code",
   "execution_count": 39,
   "metadata": {
    "ExecuteTime": {
     "end_time": "2020-04-23T18:57:47.056239Z",
     "start_time": "2020-04-23T18:57:46.764805Z"
    }
   },
   "outputs": [
    {
     "data": {
      "text/plain": [
       "<matplotlib.axes._subplots.AxesSubplot at 0x7f1466a08c50>"
      ]
     },
     "execution_count": 39,
     "metadata": {},
     "output_type": "execute_result"
    },
    {
     "data": {
      "image/png": "[encoded data removed]",
      "text/plain": [
       "<Figure size 432x288 with 2 Axes>"
      ]
     },
     "metadata": {
      "needs_background": "light"
     },
     "output_type": "display_data"
    }
   ],
   "source": [
    "sb.heatmap(agents[\"q_learning_agent\"].q.reshape(4, 4, 12).mean(axis=0))"
   ]
  },
  {
   "cell_type": "code",
   "execution_count": 40,
   "metadata": {
    "ExecuteTime": {
     "end_time": "2020-04-23T18:57:47.363074Z",
     "start_time": "2020-04-23T18:57:47.101111Z"
    }
   },
   "outputs": [
    {
     "data": {
      "text/plain": [
       "<matplotlib.axes._subplots.AxesSubplot at 0x7f146699eef0>"
      ]
     },
     "execution_count": 40,
     "metadata": {},
     "output_type": "execute_result"
    },
    {
     "data": {
      "image/png": "[encoded data removed]",
      "text/plain": [
       "<Figure size 432x288 with 2 Axes>"
      ]
     },
     "metadata": {
      "needs_background": "light"
     },
     "output_type": "display_data"
    }
   ],
   "source": [
    "sb.heatmap(agents[\"expected_sarsa_agent\"].q.reshape(4, 4, 12).mean(axis=0))"
   ]
  },
  {
   "cell_type": "markdown",
   "metadata": {
    "ExecuteTime": {
     "end_time": "2020-04-22T22:16:45.264027Z",
     "start_time": "2020-04-22T22:15:53.659988Z"
    }
   },
   "source": [
    "### TESTING"
   ]
  },
  {
   "cell_type": "code",
   "execution_count": 41,
   "metadata": {
    "ExecuteTime": {
     "end_time": "2020-04-23T18:57:47.407381Z",
     "start_time": "2020-04-23T18:57:47.399315Z"
    }
   },
   "outputs": [],
   "source": [
    "n_episode_test = 4\n",
    "agent_to_test = agents[\"expected_sarsa_agent\"]\n",
    "graphical = True"
   ]
  },
  {
   "cell_type": "code",
   "execution_count": 31,
   "metadata": {
    "ExecuteTime": {
     "end_time": "2020-04-23T18:07:27.150087Z",
     "start_time": "2020-04-23T18:07:14.650072Z"
    }
   },
   "outputs": [
    {
     "name": "stdout",
     "output_type": "stream",
     "text": [
      "SXXXXXXXXXXG\n",
      "___________T\n",
      "____________\n",
      "____________\n"
     ]
    }
   ],
   "source": [
    "for i_episode in range(n_episode_test):\n",
    "    \n",
    "    rewards = 0\n",
    "    state = env.reset()\n",
    "    next_action = agent_to_test.episode_init(state)\n",
    "    \n",
    "    for t in range(t_max_per_episode):\n",
    "        \n",
    "        if graphical:\n",
    "            clear_output(wait=True)\n",
    "            env.render()\n",
    "            time.sleep(0.2)\n",
    "            \n",
    "        \n",
    "        state, reward, done, info = env.step(next_action)\n",
    "        next_action = agent_to_test.e_greedy(state, always_greedy=True)\n",
    "        if done:\n",
    "            break\n",
    "\n",
    "agent_to_test.epsilon.reset_episode_count()\n",
    "env.close()"
   ]
  },
  {
   "cell_type": "code",
   "execution_count": null,
   "metadata": {},
   "outputs": [],
   "source": []
  }
 ],
 "metadata": {
  "kernelspec": {
   "display_name": "Python 3",
   "language": "python",
   "name": "python3"
  },
  "language_info": {
   "codemirror_mode": {
    "name": "ipython",
    "version": 3
   },
   "file_extension": ".py",
   "mimetype": "text/x-python",
   "name": "python",
   "nbconvert_exporter": "python",
   "pygments_lexer": "ipython3",
   "version": "3.6.8"
  },
  "toc": {
   "base_numbering": 1,
   "nav_menu": {},
   "number_sections": true,
   "sideBar": true,
   "skip_h1_title": false,
   "title_cell": "Table of Contents",
   "title_sidebar": "Contents",
   "toc_cell": false,
   "toc_position": {},
   "toc_section_display": true,
   "toc_window_display": false
  },
  "varInspector": {
   "cols": {
    "lenName": 16,
    "lenType": 16,
    "lenVar": 40
   },
   "kernels_config": {
    "python": {
     "delete_cmd_postfix": "",
     "delete_cmd_prefix": "del ",
     "library": "var_list.py",
     "varRefreshCmd": "print(var_dic_list())"
    },
    "r": {
     "delete_cmd_postfix": ") ",
     "delete_cmd_prefix": "rm(",
     "library": "var_list.r",
     "varRefreshCmd": "cat(var_dic_list()) "
    }
   },
   "types_to_exclude": [
    "module",
    "function",
    "builtin_function_or_method",
    "instance",
    "_Feature"
   ],
   "window_display": false
  }
 },
 "nbformat": 4,
 "nbformat_minor": 2
}

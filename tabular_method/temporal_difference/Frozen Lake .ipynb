{
 "cells": [
  {
   "cell_type": "code",
   "execution_count": 2,
   "metadata": {
    "ExecuteTime": {
     "end_time": "2019-10-22T15:41:25.630820Z",
     "start_time": "2019-10-22T15:41:25.561718Z"
    }
   },
   "outputs": [],
   "source": [
    "import numpy as np \n",
    "import gym\n",
    "import random\n",
    "import time\n",
    "from IPython.display import clear_output"
   ]
  },
  {
   "cell_type": "code",
   "execution_count": 4,
   "metadata": {
    "ExecuteTime": {
     "end_time": "2019-10-22T15:41:47.800154Z",
     "start_time": "2019-10-22T15:41:47.469619Z"
    }
   },
   "outputs": [],
   "source": [
    "env = gym.make(\"FrozenLake-v0\")"
   ]
  },
  {
   "cell_type": "code",
   "execution_count": 8,
   "metadata": {
    "ExecuteTime": {
     "end_time": "2019-10-22T15:43:03.021660Z",
     "start_time": "2019-10-22T15:43:02.993456Z"
    }
   },
   "outputs": [
    {
     "name": "stdout",
     "output_type": "stream",
     "text": [
      "[[0. 0. 0. 0.]\n",
      " [0. 0. 0. 0.]\n",
      " [0. 0. 0. 0.]\n",
      " [0. 0. 0. 0.]\n",
      " [0. 0. 0. 0.]\n",
      " [0. 0. 0. 0.]\n",
      " [0. 0. 0. 0.]\n",
      " [0. 0. 0. 0.]\n",
      " [0. 0. 0. 0.]\n",
      " [0. 0. 0. 0.]\n",
      " [0. 0. 0. 0.]\n",
      " [0. 0. 0. 0.]\n",
      " [0. 0. 0. 0.]\n",
      " [0. 0. 0. 0.]\n",
      " [0. 0. 0. 0.]\n",
      " [0. 0. 0. 0.]]\n"
     ]
    }
   ],
   "source": [
    "action_space_size = env.action_space.n\n",
    "state_space_size = env.observation_space.n\n",
    "q_table = np.zeros((state_space_size, action_space_size))\n",
    "print(q_table)"
   ]
  },
  {
   "cell_type": "code",
   "execution_count": 10,
   "metadata": {
    "ExecuteTime": {
     "end_time": "2019-10-22T15:45:07.844829Z",
     "start_time": "2019-10-22T15:45:07.811676Z"
    }
   },
   "outputs": [],
   "source": [
    "num_episodes = 10000\n",
    "max_steps_per_episode = 100\n",
    "\n",
    "learning_rate = 0.1\n",
    "discount_rate = 0.99\n",
    "\n",
    "exploration_rate = 1\n",
    "max_exploration_rate = 1\n",
    "min_exploration_rate = 0.01\n",
    "exploration_decay_rate = 0.01"
   ]
  },
  {
   "cell_type": "code",
   "execution_count": 11,
   "metadata": {
    "ExecuteTime": {
     "end_time": "2019-10-22T15:54:10.947271Z",
     "start_time": "2019-10-22T15:54:03.630351Z"
    }
   },
   "outputs": [],
   "source": [
    "rewards = list()\n",
    "for episode in range(num_episodes):\n",
    "    state = env.reset()\n",
    "    \n",
    "    done = False\n",
    "    rewards_current_episode = 0\n",
    "    \n",
    "    for step in range(max_steps_per_episode):\n",
    "        \n",
    "        exploration_rate_threshold = random.uniform(0, 1)\n",
    "        if exploration_rate_threshold > exploration_rate:\n",
    "            action = np.argmax(q_table[state, :])\n",
    "        else:\n",
    "            action = env.action_space.sample()\n",
    "            \n",
    "        new_state, reward, done, info = env.step(action)\n",
    "        \n",
    "        q_table[state, action] = q_table[state, action] * (1 - learning_rate) + learning_rate * \\\n",
    "        (reward + discount_rate * np.max(q_table[new_state, :]))\n",
    "        \n",
    "        state = new_state\n",
    "        rewards_current_episode += reward\n",
    "        \n",
    "        if done == True:\n",
    "            break\n",
    "            \n",
    "    exploration_rate = min_exploration_rate + (max_exploration_rate - min_exploration_rate) * \\\n",
    "    np.exp(-exploration_decay_rate*episode)\n",
    "    \n",
    "    rewards.append(rewards_current_episode)\n",
    "    "
   ]
  },
  {
   "cell_type": "code",
   "execution_count": 12,
   "metadata": {
    "ExecuteTime": {
     "end_time": "2019-10-22T15:55:09.063355Z",
     "start_time": "2019-10-22T15:55:09.045860Z"
    }
   },
   "outputs": [
    {
     "data": {
      "text/plain": [
       "array([[0.52787395, 0.49592762, 0.48501746, 0.50081861],\n",
       "       [0.15603741, 0.23406153, 0.23057403, 0.41688292],\n",
       "       [0.32627885, 0.19657216, 0.2035293 , 0.22697175],\n",
       "       [0.18023288, 0.0052048 , 0.00728306, 0.00716077],\n",
       "       [0.54510141, 0.28564898, 0.20575096, 0.30731431],\n",
       "       [0.        , 0.        , 0.        , 0.        ],\n",
       "       [0.35879262, 0.19989484, 0.15722425, 0.05578831],\n",
       "       [0.        , 0.        , 0.        , 0.        ],\n",
       "       [0.46040399, 0.37630924, 0.39149021, 0.59606846],\n",
       "       [0.47294569, 0.65322493, 0.32008162, 0.44962212],\n",
       "       [0.62103344, 0.35945654, 0.40672122, 0.32646435],\n",
       "       [0.        , 0.        , 0.        , 0.        ],\n",
       "       [0.        , 0.        , 0.        , 0.        ],\n",
       "       [0.57653621, 0.52629349, 0.75443415, 0.49149628],\n",
       "       [0.75778202, 0.86225806, 0.79095519, 0.69741577],\n",
       "       [0.        , 0.        , 0.        , 0.        ]])"
      ]
     },
     "execution_count": 12,
     "metadata": {},
     "output_type": "execute_result"
    }
   ],
   "source": [
    "q_table"
   ]
  },
  {
   "cell_type": "code",
   "execution_count": 22,
   "metadata": {
    "ExecuteTime": {
     "end_time": "2019-10-22T15:57:53.820187Z",
     "start_time": "2019-10-22T15:57:53.806970Z"
    }
   },
   "outputs": [],
   "source": [
    "def chunks(l, n):\n",
    "    # For item i in a range that is a length of l,\n",
    "    for i in range(0, len(l), n):\n",
    "        # Create an index range for l of n items:\n",
    "        yield l[i:i+n]"
   ]
  },
  {
   "cell_type": "code",
   "execution_count": 23,
   "metadata": {
    "ExecuteTime": {
     "end_time": "2019-10-22T15:57:54.049165Z",
     "start_time": "2019-10-22T15:57:54.040351Z"
    }
   },
   "outputs": [
    {
     "data": {
      "text/plain": [
       "array([0.114, 0.189, 0.194, 0.465, 0.698, 0.709, 0.636, 0.676, 0.674,\n",
       "       0.692])"
      ]
     },
     "execution_count": 23,
     "metadata": {},
     "output_type": "execute_result"
    }
   ],
   "source": [
    "np.mean(list(chunks(rewards, 1000)), axis=1)"
   ]
  },
  {
   "cell_type": "code",
   "execution_count": 25,
   "metadata": {
    "ExecuteTime": {
     "end_time": "2019-10-22T16:02:33.861120Z",
     "start_time": "2019-10-22T16:01:19.225355Z"
    }
   },
   "outputs": [
    {
     "name": "stdout",
     "output_type": "stream",
     "text": [
      "  (Right)\n",
      "SFFF\n",
      "FHFH\n",
      "FFFH\n",
      "HF\u001b[41mF\u001b[0mG\n"
     ]
    }
   ],
   "source": [
    "num_episode_test = 4\n",
    "\n",
    "for episode in range(num_episode_test):\n",
    "    state = env.reset()\n",
    "    \n",
    "    done = False\n",
    "    time.sleep(1)\n",
    "    for step in range(max_steps_per_episode):\n",
    "        clear_output(wait=True)\n",
    "        env.render()\n",
    "        time.sleep(0.3)\n",
    "\n",
    "        action = np.argmax(q_table[state, :])\n",
    "        new_state, reward, done, info = env.step(action)\n",
    "        \n",
    "        state = new_state\n",
    "        \n",
    "        if done == True:\n",
    "            break"
   ]
  },
  {
   "cell_type": "code",
   "execution_count": 26,
   "metadata": {
    "ExecuteTime": {
     "end_time": "2019-10-22T16:02:50.373861Z",
     "start_time": "2019-10-22T16:02:50.358344Z"
    }
   },
   "outputs": [
    {
     "data": {
      "text/plain": [
       "array([[0.52787395, 0.49592762, 0.48501746, 0.50081861],\n",
       "       [0.15603741, 0.23406153, 0.23057403, 0.41688292],\n",
       "       [0.32627885, 0.19657216, 0.2035293 , 0.22697175],\n",
       "       [0.18023288, 0.0052048 , 0.00728306, 0.00716077],\n",
       "       [0.54510141, 0.28564898, 0.20575096, 0.30731431],\n",
       "       [0.        , 0.        , 0.        , 0.        ],\n",
       "       [0.35879262, 0.19989484, 0.15722425, 0.05578831],\n",
       "       [0.        , 0.        , 0.        , 0.        ],\n",
       "       [0.46040399, 0.37630924, 0.39149021, 0.59606846],\n",
       "       [0.47294569, 0.65322493, 0.32008162, 0.44962212],\n",
       "       [0.62103344, 0.35945654, 0.40672122, 0.32646435],\n",
       "       [0.        , 0.        , 0.        , 0.        ],\n",
       "       [0.        , 0.        , 0.        , 0.        ],\n",
       "       [0.57653621, 0.52629349, 0.75443415, 0.49149628],\n",
       "       [0.75778202, 0.86225806, 0.79095519, 0.69741577],\n",
       "       [0.        , 0.        , 0.        , 0.        ]])"
      ]
     },
     "execution_count": 26,
     "metadata": {},
     "output_type": "execute_result"
    }
   ],
   "source": [
    "q_table"
   ]
  },
  {
   "cell_type": "code",
   "execution_count": null,
   "metadata": {},
   "outputs": [],
   "source": []
  }
 ],
 "metadata": {
  "kernelspec": {
   "display_name": "Python 3",
   "language": "python",
   "name": "python3"
  },
  "language_info": {
   "codemirror_mode": {
    "name": "ipython",
    "version": 3
   },
   "file_extension": ".py",
   "mimetype": "text/x-python",
   "name": "python",
   "nbconvert_exporter": "python",
   "pygments_lexer": "ipython3",
   "version": "3.6.8"
  },
  "toc": {
   "base_numbering": 1,
   "nav_menu": {},
   "number_sections": true,
   "sideBar": true,
   "skip_h1_title": false,
   "title_cell": "Table of Contents",
   "title_sidebar": "Contents",
   "toc_cell": false,
   "toc_position": {},
   "toc_section_display": true,
   "toc_window_display": false
  },
  "varInspector": {
   "cols": {
    "lenName": 16,
    "lenType": 16,
    "lenVar": 40
   },
   "kernels_config": {
    "python": {
     "delete_cmd_postfix": "",
     "delete_cmd_prefix": "del ",
     "library": "var_list.py",
     "varRefreshCmd": "print(var_dic_list())"
    },
    "r": {
     "delete_cmd_postfix": ") ",
     "delete_cmd_prefix": "rm(",
     "library": "var_list.r",
     "varRefreshCmd": "cat(var_dic_list()) "
    }
   },
   "types_to_exclude": [
    "module",
    "function",
    "builtin_function_or_method",
    "instance",
    "_Feature"
   ],
   "window_display": false
  }
 },
 "nbformat": 4,
 "nbformat_minor": 2
}

{
 "cells": [
  {
   "cell_type": "code",
   "execution_count": 1,
   "metadata": {
    "ExecuteTime": {
     "end_time": "2020-04-22T22:13:10.664944Z",
     "start_time": "2020-04-22T22:13:10.384707Z"
    }
   },
   "outputs": [],
   "source": [
    "import agent as myagents\n",
    "import gym\n",
    "import matplotlib.pyplot as plt\n",
    "from tqdm import tqdm\n",
    "import utils\n",
    "import numpy as np\n",
    "from IPython.display import clear_output\n",
    "import time"
   ]
  },
  {
   "cell_type": "markdown",
   "metadata": {},
   "source": [
    "### Environment"
   ]
  },
  {
   "cell_type": "code",
   "execution_count": 2,
   "metadata": {
    "ExecuteTime": {
     "end_time": "2020-04-22T22:13:11.311229Z",
     "start_time": "2020-04-22T22:13:11.086541Z"
    }
   },
   "outputs": [],
   "source": [
    "env = gym.make(\"FrozenLake8x8-v0\")"
   ]
  },
  {
   "cell_type": "markdown",
   "metadata": {},
   "source": [
    "### Agent"
   ]
  },
  {
   "cell_type": "code",
   "execution_count": 23,
   "metadata": {
    "ExecuteTime": {
     "end_time": "2020-04-22T22:17:39.321338Z",
     "start_time": "2020-04-22T22:17:39.316518Z"
    }
   },
   "outputs": [],
   "source": [
    "agent_init = {\n",
    "    'discount_factor': .999, \n",
    "    'learning_rate': 0.02, \n",
    "    'exploration_rate_decay': {\n",
    "        'er': 1,\n",
    "        'max_er': 1,\n",
    "        'min_er': 0.01,\n",
    "        'decay_er': 0.005\n",
    "    },\n",
    "    'num_action': env.action_space.n,\n",
    "    'num_state': env.observation_space.n,\n",
    "}\n",
    "sarsa_agent = myagents.SarsaAgent(agent_init)"
   ]
  },
  {
   "cell_type": "markdown",
   "metadata": {},
   "source": [
    "### Training"
   ]
  },
  {
   "cell_type": "code",
   "execution_count": 29,
   "metadata": {
    "ExecuteTime": {
     "end_time": "2020-04-22T22:18:20.716998Z",
     "start_time": "2020-04-22T22:18:20.701739Z"
    }
   },
   "outputs": [],
   "source": [
    "timesteps_per_episode = list()\n",
    "rewards_per_episode = list()\n",
    "n_episode = 20000\n",
    "t_max_per_episode = 200\n",
    "verbose = False\n",
    "graphical = False"
   ]
  },
  {
   "cell_type": "code",
   "execution_count": 30,
   "metadata": {
    "ExecuteTime": {
     "end_time": "2020-04-22T22:18:55.293447Z",
     "start_time": "2020-04-22T22:18:21.120870Z"
    }
   },
   "outputs": [
    {
     "name": "stderr",
     "output_type": "stream",
     "text": [
      "100%|██████████| 20000/20000 [00:34<00:00, 585.49it/s]\n"
     ]
    }
   ],
   "source": [
    "for i_episode in tqdm(range(n_episode)):\n",
    "    \n",
    "    rewards = 0\n",
    "    state = env.reset()\n",
    "    next_action = sarsa_agent.episode_init(state)\n",
    "    \n",
    "    for t in range(t_max_per_episode):\n",
    "        \n",
    "        if graphical:\n",
    "            clear_output(wait=True)\n",
    "            env.render()\n",
    "            \n",
    "        \n",
    "        state, reward, done, info = env.step(next_action)\n",
    "        next_action = sarsa_agent.update(state, reward, done)\n",
    "        \n",
    "        rewards += reward\n",
    "        if done:\n",
    "            break\n",
    "            \n",
    "    timesteps_per_episode.append(t)\n",
    "    rewards_per_episode.append(rewards)\n",
    "    sarsa_agent.epsilon.next()\n",
    "\n",
    "sarsa_agent.epsilon.reset_episode_count()\n",
    "env.close()"
   ]
  },
  {
   "cell_type": "code",
   "execution_count": 31,
   "metadata": {
    "ExecuteTime": {
     "end_time": "2020-04-22T22:18:56.004451Z",
     "start_time": "2020-04-22T22:18:55.998910Z"
    }
   },
   "outputs": [],
   "source": [
    "rewards_per_episode = np.array(rewards_per_episode)"
   ]
  },
  {
   "cell_type": "code",
   "execution_count": 32,
   "metadata": {
    "ExecuteTime": {
     "end_time": "2020-04-22T22:18:57.276587Z",
     "start_time": "2020-04-22T22:18:56.534929Z"
    }
   },
   "outputs": [
    {
     "data": {
      "text/plain": [
       "[<matplotlib.lines.Line2D at 0x7fa70c1245f8>]"
      ]
     },
     "execution_count": 32,
     "metadata": {},
     "output_type": "execute_result"
    },
    {
     "data": {
      "image/png": "[encoded data removed]",
      "text/plain": [
       "<Figure size 432x288 with 1 Axes>"
      ]
     },
     "metadata": {
      "needs_background": "light"
     },
     "output_type": "display_data"
    }
   ],
   "source": [
    "plt.plot(range(len(rewards_per_episode)), rewards_per_episode)"
   ]
  },
  {
   "cell_type": "code",
   "execution_count": 33,
   "metadata": {
    "ExecuteTime": {
     "end_time": "2020-04-22T22:18:58.112054Z",
     "start_time": "2020-04-22T22:18:57.779755Z"
    }
   },
   "outputs": [
    {
     "data": {
      "text/plain": [
       "[<matplotlib.lines.Line2D at 0x7fa705c98ef0>]"
      ]
     },
     "execution_count": 33,
     "metadata": {},
     "output_type": "execute_result"
    },
    {
     "data": {
      "image/png": "[encoded data removed]",
      "text/plain": [
       "<Figure size 432x288 with 1 Axes>"
      ]
     },
     "metadata": {
      "needs_background": "light"
     },
     "output_type": "display_data"
    }
   ],
   "source": [
    "rewards_per_episode_rolling_mean = utils.moving_average(rewards_per_episode, n=100)\n",
    "plt.plot(range(len(rewards_per_episode_rolling_mean)), rewards_per_episode_rolling_mean)"
   ]
  },
  {
   "cell_type": "code",
   "execution_count": 34,
   "metadata": {
    "ExecuteTime": {
     "end_time": "2020-04-22T22:19:36.953349Z",
     "start_time": "2020-04-22T22:19:36.931784Z"
    }
   },
   "outputs": [
    {
     "data": {
      "text/plain": [
       "array([0., 1., 1., 1., 1., 1., 1., 1., 1., 1., 1., 1., 1., 1., 0., 1., 1.,\n",
       "       1., 1., 1., 1., 1., 0., 1., 1., 1., 1., 1., 0., 1., 1., 0., 1., 1.,\n",
       "       1., 1., 1., 1., 1., 1., 1., 1., 1., 1., 0., 1., 1., 1., 0., 1., 1.,\n",
       "       1., 0., 0., 0., 0., 0., 1., 1., 1., 1., 1., 1., 1., 1., 1., 1., 0.,\n",
       "       1., 1., 1., 0., 1., 1., 1., 0., 1., 1., 0., 1., 0., 1., 1., 1., 1.,\n",
       "       1., 1., 1., 1., 1., 1., 0., 0., 1., 0., 1., 1., 1., 0., 1., 0., 1.,\n",
       "       1., 1., 0., 1., 0., 1., 1., 1., 1., 1., 1., 1., 1., 1., 0., 1., 1.,\n",
       "       1., 0., 0., 0., 1., 1., 1., 0., 1., 0., 1., 0., 1., 0., 1., 1., 1.,\n",
       "       1., 1., 1., 1., 0., 1., 0., 1., 0., 1., 1., 1., 1., 1., 1., 1., 1.,\n",
       "       1., 1., 1., 1., 1., 1., 0., 1., 0., 1., 1., 1., 1., 1., 1., 0., 1.,\n",
       "       1., 1., 0., 1., 1., 0., 1., 1., 1., 1., 1., 1., 1., 0., 1., 1., 1.,\n",
       "       1., 0., 0., 1., 1., 1., 1., 1., 1., 0., 0., 1., 1.])"
      ]
     },
     "execution_count": 34,
     "metadata": {},
     "output_type": "execute_result"
    }
   ],
   "source": [
    "rewards_per_episode[19800:]"
   ]
  },
  {
   "cell_type": "markdown",
   "metadata": {
    "ExecuteTime": {
     "end_time": "2020-04-22T20:12:28.544849Z",
     "start_time": "2020-04-22T20:12:28.528562Z"
    }
   },
   "source": [
    "### Testing"
   ]
  },
  {
   "cell_type": "code",
   "execution_count": 73,
   "metadata": {
    "ExecuteTime": {
     "end_time": "2020-04-22T20:32:05.241862Z",
     "start_time": "2020-04-22T20:32:05.228660Z"
    }
   },
   "outputs": [],
   "source": [
    "sarsa_agent.epsilon = 0.0"
   ]
  },
  {
   "cell_type": "code",
   "execution_count": 16,
   "metadata": {
    "ExecuteTime": {
     "end_time": "2020-04-22T22:16:45.264027Z",
     "start_time": "2020-04-22T22:15:53.659988Z"
    }
   },
   "outputs": [
    {
     "name": "stdout",
     "output_type": "stream",
     "text": [
      "  (Right)\n",
      "SFFFFFFF\n",
      "FFFFFFFF\n",
      "FFFHFFFF\n",
      "FFFFFHFF\n",
      "FFFHFFFF\n",
      "FHHFFFHF\n",
      "FHFFHFH\u001b[41mF\u001b[0m\n",
      "FFFHFFFG\n"
     ]
    }
   ],
   "source": [
    "for i_episode in range(1):\n",
    "    \n",
    "    rewards = 0\n",
    "    state = env.reset()\n",
    "    next_action = sarsa_agent.episode_init(state)\n",
    "    \n",
    "    for t in range(t_max_per_episode):\n",
    "        \n",
    "        clear_output(wait=True)\n",
    "        env.render()\n",
    "        time.sleep(0.3)  \n",
    "        state, _, done, _ = env.step(next_action)\n",
    "        next_action = sarsa_agent.e_greedy(state)\n",
    "        \n",
    "        if done:\n",
    "            break\n",
    "    \n",
    "env.close()"
   ]
  },
  {
   "cell_type": "code",
   "execution_count": 5,
   "metadata": {
    "ExecuteTime": {
     "end_time": "2020-04-22T21:14:37.732618Z",
     "start_time": "2020-04-22T21:14:37.716916Z"
    }
   },
   "outputs": [
    {
     "data": {
      "text/plain": [
       "4.5172682076241185e+24"
      ]
     },
     "execution_count": 5,
     "metadata": {},
     "output_type": "execute_result"
    }
   ],
   "source": [
    "0.01 + .99/ np.exp(-0.01*5678)"
   ]
  },
  {
   "cell_type": "code",
   "execution_count": 26,
   "metadata": {
    "ExecuteTime": {
     "end_time": "2020-04-22T22:06:46.679470Z",
     "start_time": "2020-04-22T22:06:46.666813Z"
    }
   },
   "outputs": [
    {
     "name": "stdout",
     "output_type": "stream",
     "text": [
      "    def update(self, state, reward, done):\n",
      "        next_action = -1\n",
      "        if not done:\n",
      "            next_action = self.update_step(state, reward)\n",
      "        if done:\n",
      "            self.update_end(reward)\n",
      "\n",
      "        return next_action\n",
      "\n"
     ]
    }
   ],
   "source": [
    "import inspect\n",
    "lines = inspect.getsource(sarsa_agent.update)\n",
    "print(lines)"
   ]
  },
  {
   "cell_type": "code",
   "execution_count": 15,
   "metadata": {
    "ExecuteTime": {
     "end_time": "2020-04-22T22:15:15.465078Z",
     "start_time": "2020-04-22T22:15:15.441154Z"
    }
   },
   "outputs": [
    {
     "data": {
      "text/plain": [
       "array([[0.55072807, 0.54155339, 0.51602974, 0.55628327, 0.56987554,\n",
       "        0.58092843, 0.59382336, 0.7312947 , 0.51746301, 0.51884342,\n",
       "        0.51076062, 0.40771663, 0.53845524, 0.57015309, 0.60714555,\n",
       "        0.62867354, 0.55453655, 0.47592915, 0.55762519, 0.5       ,\n",
       "        0.41636994, 0.39440752, 0.62102288, 0.69796239, 0.4657171 ,\n",
       "        0.50360059, 0.39182405, 0.24817594, 0.43857193, 0.5       ,\n",
       "        0.44037448, 0.70075102, 0.49632881, 0.37625974, 0.24396035,\n",
       "        0.5       , 0.43419143, 0.47011308, 0.48426735, 0.71876754,\n",
       "        0.48459195, 0.5       , 0.5       , 0.28334632, 0.38697731,\n",
       "        0.42340919, 0.5       , 0.50435538, 0.47751209, 0.5       ,\n",
       "        0.32595545, 0.37104048, 0.5       , 0.31025999, 0.5       ,\n",
       "        0.56242228, 0.47453593, 0.42922257, 0.38893617, 0.5       ,\n",
       "        0.4168322 , 0.49848316, 0.49430356, 0.5       ],\n",
       "       [0.54884918, 0.61380018, 0.63954162, 0.53758861, 0.53930402,\n",
       "        0.57152266, 0.59935908, 0.60514645, 0.50428863, 0.5337787 ,\n",
       "        0.51510402, 0.37646929, 0.52976066, 0.57964504, 0.72874161,\n",
       "        0.61355641, 0.47924833, 0.4730571 , 0.40985078, 0.5       ,\n",
       "        0.42016741, 0.41414827, 0.61108853, 0.76234148, 0.44987827,\n",
       "        0.43364103, 0.38942319, 0.32783984, 0.36613494, 0.5       ,\n",
       "        0.43945755, 0.73546356, 0.45459442, 0.38200677, 0.24260379,\n",
       "        0.5       , 0.43704439, 0.51315688, 0.44388841, 0.7530324 ,\n",
       "        0.37600214, 0.5       , 0.5       , 0.28077656, 0.38266333,\n",
       "        0.40776001, 0.5       , 0.54133334, 0.40956697, 0.5       ,\n",
       "        0.32681162, 0.37778097, 0.5       , 0.31149735, 0.5       ,\n",
       "        0.53393324, 0.45106216, 0.43141616, 0.38685378, 0.5       ,\n",
       "        0.42144755, 0.57429364, 0.76357781, 0.5       ],\n",
       "       [0.60371772, 0.54718348, 0.50767823, 0.6751282 , 0.70017513,\n",
       "        0.71651471, 0.72774937, 0.61169415, 0.49537331, 0.60245607,\n",
       "        0.51863008, 0.42357714, 0.53224216, 0.56027748, 0.65452758,\n",
       "        0.73930244, 0.47856802, 0.4744634 , 0.37930471, 0.5       ,\n",
       "        0.56461363, 0.40381731, 0.74282065, 0.71274975, 0.51469891,\n",
       "        0.43458617, 0.37955829, 0.25022452, 0.38538808, 0.5       ,\n",
       "        0.73784494, 0.78799843, 0.45317786, 0.37644145, 0.24372613,\n",
       "        0.5       , 0.4379832 , 0.49025829, 0.47177909, 0.82019307,\n",
       "        0.36323595, 0.5       , 0.5       , 0.28141275, 0.38365681,\n",
       "        0.40085905, 0.5       , 0.85547533, 0.41289733, 0.5       ,\n",
       "        0.32833604, 0.37798132, 0.5       , 0.33350178, 0.5       ,\n",
       "        0.94236436, 0.4510713 , 0.42949217, 0.38711027, 0.5       ,\n",
       "        0.42096573, 0.50095468, 0.5       , 0.5       ],\n",
       "       [0.53498309, 0.5402222 , 0.53234271, 0.53706895, 0.56161391,\n",
       "        0.57802127, 0.57709933, 0.5991619 , 0.59999656, 0.52981195,\n",
       "        0.63422432, 0.66371932, 0.69355855, 0.70908786, 0.57989446,\n",
       "        0.61783622, 0.48426472, 0.57040329, 0.36515788, 0.5       ,\n",
       "        0.43018102, 0.65458075, 0.61138779, 0.67498699, 0.46057212,\n",
       "        0.43860883, 0.45695407, 0.25336202, 0.3816822 , 0.5       ,\n",
       "        0.46830601, 0.71335657, 0.46023911, 0.43038533, 0.33097136,\n",
       "        0.5       , 0.43279142, 0.47263093, 0.69623155, 0.70150807,\n",
       "        0.41431892, 0.5       , 0.5       , 0.28185317, 0.39613312,\n",
       "        0.40234009, 0.5       , 0.46182448, 0.40586498, 0.5       ,\n",
       "        0.3260742 , 0.37347611, 0.5       , 0.30879548, 0.5       ,\n",
       "        0.53623819, 0.45148483, 0.42593182, 0.38338777, 0.5       ,\n",
       "        0.42212338, 0.49863402, 0.5       , 0.5       ]])"
      ]
     },
     "execution_count": 15,
     "metadata": {},
     "output_type": "execute_result"
    }
   ],
   "source": [
    "sarsa_agent.q\n"
   ]
  },
  {
   "cell_type": "code",
   "execution_count": null,
   "metadata": {},
   "outputs": [],
   "source": []
  }
 ],
 "metadata": {
  "kernelspec": {
   "display_name": "Python 3",
   "language": "python",
   "name": "python3"
  },
  "language_info": {
   "codemirror_mode": {
    "name": "ipython",
    "version": 3
   },
   "file_extension": ".py",
   "mimetype": "text/x-python",
   "name": "python",
   "nbconvert_exporter": "python",
   "pygments_lexer": "ipython3",
   "version": "3.6.8"
  },
  "toc": {
   "base_numbering": 1,
   "nav_menu": {},
   "number_sections": true,
   "sideBar": true,
   "skip_h1_title": false,
   "title_cell": "Table of Contents",
   "title_sidebar": "Contents",
   "toc_cell": false,
   "toc_position": {},
   "toc_section_display": true,
   "toc_window_display": false
  },
  "varInspector": {
   "cols": {
    "lenName": 16,
    "lenType": 16,
    "lenVar": 40
   },
   "kernels_config": {
    "python": {
     "delete_cmd_postfix": "",
     "delete_cmd_prefix": "del ",
     "library": "var_list.py",
     "varRefreshCmd": "print(var_dic_list())"
    },
    "r": {
     "delete_cmd_postfix": ") ",
     "delete_cmd_prefix": "rm(",
     "library": "var_list.r",
     "varRefreshCmd": "cat(var_dic_list()) "
    }
   },
   "types_to_exclude": [
    "module",
    "function",
    "builtin_function_or_method",
    "instance",
    "_Feature"
   ],
   "window_display": false
  }
 },
 "nbformat": 4,
 "nbformat_minor": 2
}

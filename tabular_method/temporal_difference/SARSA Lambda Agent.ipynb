{
 "cells": [
  {
   "cell_type": "code",
   "execution_count": 1,
   "metadata": {
    "ExecuteTime": {
     "end_time": "2020-04-23T12:48:49.252107Z",
     "start_time": "2020-04-23T12:48:48.869639Z"
    }
   },
   "outputs": [],
   "source": [
    "import agent as myagents\n",
    "import gym\n",
    "import matplotlib.pyplot as plt\n",
    "from tqdm import tqdm\n",
    "import utils\n",
    "import numpy as np\n",
    "from IPython.display import clear_output\n",
    "import time"
   ]
  },
  {
   "cell_type": "markdown",
   "metadata": {},
   "source": [
    "### Environment"
   ]
  },
  {
   "cell_type": "code",
   "execution_count": 2,
   "metadata": {
    "ExecuteTime": {
     "end_time": "2020-04-23T12:48:49.686091Z",
     "start_time": "2020-04-23T12:48:49.351200Z"
    }
   },
   "outputs": [],
   "source": [
    "env = gym.make(\"FrozenLake8x8-v0\")"
   ]
  },
  {
   "cell_type": "markdown",
   "metadata": {},
   "source": [
    "### Agent"
   ]
  },
  {
   "cell_type": "code",
   "execution_count": 3,
   "metadata": {
    "ExecuteTime": {
     "end_time": "2020-04-23T12:49:04.909303Z",
     "start_time": "2020-04-23T12:49:04.886580Z"
    }
   },
   "outputs": [],
   "source": [
    "agent_init = {\n",
    "    'discount_factor': .999, \n",
    "    'learning_rate': 0.05, \n",
    "    'exploration_rate_decay': {\n",
    "        'er': 0.1,\n",
    "        'max_er': 1,\n",
    "        'min_er': 0.01,\n",
    "        'decay_er': 5e-03,\n",
    "        'constant_er': True\n",
    "    },\n",
    "    'trace_decay': 0.9,\n",
    "    'num_action': env.action_space.n,\n",
    "    'num_state': env.observation_space.n,\n",
    "}\n",
    "sarsa_lambda_agent = myagents.SarsaLambdaAgent(agent_init)"
   ]
  },
  {
   "cell_type": "markdown",
   "metadata": {},
   "source": [
    "### Training"
   ]
  },
  {
   "cell_type": "code",
   "execution_count": 6,
   "metadata": {
    "ExecuteTime": {
     "end_time": "2020-04-23T12:49:30.324927Z",
     "start_time": "2020-04-23T12:49:30.312699Z"
    }
   },
   "outputs": [],
   "source": [
    "timesteps_per_episode = list()\n",
    "rewards_per_episode = list()\n",
    "n_episode = 10000\n",
    "t_max_per_episode = 200\n",
    "verbose = False\n",
    "graphical = False\n",
    "rewards_per_episode_array = np.array([])"
   ]
  },
  {
   "cell_type": "code",
   "execution_count": 7,
   "metadata": {
    "ExecuteTime": {
     "end_time": "2020-04-23T12:53:53.132246Z",
     "start_time": "2020-04-23T12:49:30.577509Z"
    }
   },
   "outputs": [
    {
     "name": "stderr",
     "output_type": "stream",
     "text": [
      "100%|██████████| 10000/10000 [04:22<00:00, 38.09it/s]\n"
     ]
    }
   ],
   "source": [
    "for i_episode in tqdm(range(n_episode)):\n",
    "    \n",
    "    rewards = 0\n",
    "    state = env.reset()\n",
    "    next_action = sarsa_lambda_agent.episode_init(state)\n",
    "    \n",
    "    for t in range(t_max_per_episode):\n",
    "        \n",
    "        if graphical:\n",
    "            clear_output(wait=True)\n",
    "            env.render()\n",
    "            \n",
    "        \n",
    "        state, reward, done, info = env.step(next_action)\n",
    "        next_action = sarsa_lambda_agent.update(state, reward, done)\n",
    "        \n",
    "        rewards += reward\n",
    "        if done:\n",
    "            break\n",
    "            \n",
    "    timesteps_per_episode.append(t)\n",
    "    rewards_per_episode.append(rewards)\n",
    "    sarsa_lambda_agent.epsilon.next()\n",
    "\n",
    "sarsa_lambda_agent.epsilon.reset_episode_count()\n",
    "env.close()"
   ]
  },
  {
   "cell_type": "code",
   "execution_count": 8,
   "metadata": {
    "ExecuteTime": {
     "end_time": "2020-04-23T12:53:53.178845Z",
     "start_time": "2020-04-23T12:53:53.171207Z"
    }
   },
   "outputs": [],
   "source": [
    "rewards_per_episode_array = np.concatenate([rewards_per_episode_array, np.array(rewards_per_episode)])"
   ]
  },
  {
   "cell_type": "code",
   "execution_count": 9,
   "metadata": {
    "ExecuteTime": {
     "end_time": "2020-04-23T12:53:53.723495Z",
     "start_time": "2020-04-23T12:53:53.208843Z"
    }
   },
   "outputs": [
    {
     "data": {
      "text/plain": [
       "[<matplotlib.lines.Line2D at 0x7f6584410ba8>]"
      ]
     },
     "execution_count": 9,
     "metadata": {},
     "output_type": "execute_result"
    },
    {
     "data": {
      "image/png": "[encoded data removed]",
      "text/plain": [
       "<Figure size 432x288 with 1 Axes>"
      ]
     },
     "metadata": {
      "needs_background": "light"
     },
     "output_type": "display_data"
    }
   ],
   "source": [
    "plt.plot(range(len(rewards_per_episode_array)), rewards_per_episode_array)"
   ]
  },
  {
   "cell_type": "code",
   "execution_count": 10,
   "metadata": {
    "ExecuteTime": {
     "end_time": "2020-04-23T12:53:53.998885Z",
     "start_time": "2020-04-23T12:53:53.753038Z"
    }
   },
   "outputs": [
    {
     "data": {
      "text/plain": [
       "[<matplotlib.lines.Line2D at 0x7f65843ab7f0>]"
      ]
     },
     "execution_count": 10,
     "metadata": {},
     "output_type": "execute_result"
    },
    {
     "data": {
      "image/png": "[encoded data removed]",
      "text/plain": [
       "<Figure size 432x288 with 1 Axes>"
      ]
     },
     "metadata": {
      "needs_background": "light"
     },
     "output_type": "display_data"
    }
   ],
   "source": [
    "rewards_per_episode_rolling_mean = utils.moving_average(rewards_per_episode_array, n=500)\n",
    "plt.plot(range(len(rewards_per_episode_rolling_mean)), rewards_per_episode_rolling_mean)"
   ]
  },
  {
   "cell_type": "code",
   "execution_count": 36,
   "metadata": {
    "ExecuteTime": {
     "end_time": "2020-04-22T22:41:48.159623Z",
     "start_time": "2020-04-22T22:41:48.146442Z"
    }
   },
   "outputs": [
    {
     "data": {
      "text/plain": [
       "array([1., 1., 0., 0., 1., 0., 1., 1., 1., 1., 1., 1., 1., 1., 1., 0., 0.,\n",
       "       1., 0., 0., 0., 1., 1., 1., 0., 1., 1., 0., 1., 1., 1., 1., 1., 1.,\n",
       "       1., 0., 0., 1., 0., 1., 1., 0., 1., 0., 0., 1., 1., 0., 0., 1., 0.,\n",
       "       1., 1., 1., 1., 1., 1., 0., 0., 1., 1., 1., 1., 0., 1., 0., 0., 1.,\n",
       "       1., 1., 1., 1., 1., 1., 1., 1., 0., 0., 1., 0., 0., 0., 1., 1., 1.,\n",
       "       1., 0., 1., 1., 1., 1., 1., 1., 1., 1., 1., 1., 1., 1., 1.])"
      ]
     },
     "execution_count": 36,
     "metadata": {},
     "output_type": "execute_result"
    }
   ],
   "source": [
    "rewards_per_episode[49900:]"
   ]
  },
  {
   "cell_type": "markdown",
   "metadata": {
    "ExecuteTime": {
     "end_time": "2020-04-22T20:12:28.544849Z",
     "start_time": "2020-04-22T20:12:28.528562Z"
    }
   },
   "source": [
    "### Testing"
   ]
  },
  {
   "cell_type": "code",
   "execution_count": 73,
   "metadata": {
    "ExecuteTime": {
     "end_time": "2020-04-22T20:32:05.241862Z",
     "start_time": "2020-04-22T20:32:05.228660Z"
    }
   },
   "outputs": [],
   "source": [
    "sarsa_agent.epsilon = 0.0"
   ]
  },
  {
   "cell_type": "code",
   "execution_count": 16,
   "metadata": {
    "ExecuteTime": {
     "end_time": "2020-04-22T22:16:45.264027Z",
     "start_time": "2020-04-22T22:15:53.659988Z"
    }
   },
   "outputs": [
    {
     "name": "stdout",
     "output_type": "stream",
     "text": [
      "  (Right)\n",
      "SFFFFFFF\n",
      "FFFFFFFF\n",
      "FFFHFFFF\n",
      "FFFFFHFF\n",
      "FFFHFFFF\n",
      "FHHFFFHF\n",
      "FHFFHFH\u001b[41mF\u001b[0m\n",
      "FFFHFFFG\n"
     ]
    }
   ],
   "source": [
    "for i_episode in range(1):\n",
    "    \n",
    "    rewards = 0\n",
    "    state = env.reset()\n",
    "    next_action = sarsa_agent.episode_init(state)\n",
    "    \n",
    "    for t in range(t_max_per_episode):\n",
    "        \n",
    "        clear_output(wait=True)\n",
    "        env.render()\n",
    "        time.sleep(0.3)  \n",
    "        state, _, done, _ = env.step(next_action)\n",
    "        next_action = sarsa_agent.e_greedy(state)\n",
    "        \n",
    "        if done:\n",
    "            break\n",
    "    \n",
    "env.close()"
   ]
  },
  {
   "cell_type": "code",
   "execution_count": 5,
   "metadata": {
    "ExecuteTime": {
     "end_time": "2020-04-22T21:14:37.732618Z",
     "start_time": "2020-04-22T21:14:37.716916Z"
    }
   },
   "outputs": [
    {
     "data": {
      "text/plain": [
       "4.5172682076241185e+24"
      ]
     },
     "execution_count": 5,
     "metadata": {},
     "output_type": "execute_result"
    }
   ],
   "source": [
    "0.01 + .99/ np.exp(-0.01*5678)"
   ]
  },
  {
   "cell_type": "code",
   "execution_count": 26,
   "metadata": {
    "ExecuteTime": {
     "end_time": "2020-04-22T22:06:46.679470Z",
     "start_time": "2020-04-22T22:06:46.666813Z"
    }
   },
   "outputs": [
    {
     "name": "stdout",
     "output_type": "stream",
     "text": [
      "    def update(self, state, reward, done):\n",
      "        next_action = -1\n",
      "        if not done:\n",
      "            next_action = self.update_step(state, reward)\n",
      "        if done:\n",
      "            self.update_end(reward)\n",
      "\n",
      "        return next_action\n",
      "\n"
     ]
    }
   ],
   "source": [
    "import inspect\n",
    "lines = inspect.getsource(sarsa_agent.update)\n",
    "print(lines)"
   ]
  },
  {
   "cell_type": "code",
   "execution_count": 69,
   "metadata": {
    "ExecuteTime": {
     "end_time": "2020-04-22T23:40:28.303112Z",
     "start_time": "2020-04-22T23:40:28.288243Z"
    }
   },
   "outputs": [
    {
     "data": {
      "text/plain": [
       "{'discount_factor': 0.999,\n",
       " 'learning_rate': 0.05,\n",
       " 'exploration_rate_decay': {'er': 1,\n",
       "  'max_er': 1,\n",
       "  'min_er': 0.01,\n",
       "  'decay_er': 0.005},\n",
       " 'num_action': 4,\n",
       " 'num_state': 64}"
      ]
     },
     "execution_count": 69,
     "metadata": {},
     "output_type": "execute_result"
    }
   ],
   "source": [
    "agent_init"
   ]
  },
  {
   "cell_type": "code",
   "execution_count": null,
   "metadata": {},
   "outputs": [],
   "source": []
  }
 ],
 "metadata": {
  "kernelspec": {
   "display_name": "Python 3",
   "language": "python",
   "name": "python3"
  },
  "language_info": {
   "codemirror_mode": {
    "name": "ipython",
    "version": 3
   },
   "file_extension": ".py",
   "mimetype": "text/x-python",
   "name": "python",
   "nbconvert_exporter": "python",
   "pygments_lexer": "ipython3",
   "version": "3.6.8"
  },
  "toc": {
   "base_numbering": 1,
   "nav_menu": {},
   "number_sections": true,
   "sideBar": true,
   "skip_h1_title": false,
   "title_cell": "Table of Contents",
   "title_sidebar": "Contents",
   "toc_cell": false,
   "toc_position": {},
   "toc_section_display": true,
   "toc_window_display": false
  },
  "varInspector": {
   "cols": {
    "lenName": 16,
    "lenType": 16,
    "lenVar": 40
   },
   "kernels_config": {
    "python": {
     "delete_cmd_postfix": "",
     "delete_cmd_prefix": "del ",
     "library": "var_list.py",
     "varRefreshCmd": "print(var_dic_list())"
    },
    "r": {
     "delete_cmd_postfix": ") ",
     "delete_cmd_prefix": "rm(",
     "library": "var_list.r",
     "varRefreshCmd": "cat(var_dic_list()) "
    }
   },
   "types_to_exclude": [
    "module",
    "function",
    "builtin_function_or_method",
    "instance",
    "_Feature"
   ],
   "window_display": false
  }
 },
 "nbformat": 4,
 "nbformat_minor": 2
}

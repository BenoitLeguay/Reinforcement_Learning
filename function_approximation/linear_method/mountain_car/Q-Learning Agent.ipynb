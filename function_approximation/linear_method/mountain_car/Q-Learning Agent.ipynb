{
 "cells": [
  {
   "cell_type": "code",
   "execution_count": 1,
   "metadata": {
    "ExecuteTime": {
     "end_time": "2020-04-22T13:29:57.317716Z",
     "start_time": "2020-04-22T13:29:57.059068Z"
    }
   },
   "outputs": [],
   "source": [
    "import agent\n",
    "import gym\n",
    "import matplotlib.pyplot as plt\n",
    "from tqdm import tqdm\n",
    "import utils"
   ]
  },
  {
   "cell_type": "markdown",
   "metadata": {},
   "source": [
    "### Environnement"
   ]
  },
  {
   "cell_type": "code",
   "execution_count": 2,
   "metadata": {
    "ExecuteTime": {
     "end_time": "2020-04-22T13:29:57.684883Z",
     "start_time": "2020-04-22T13:29:57.669546Z"
    }
   },
   "outputs": [],
   "source": [
    "env = gym.make('MountainCar-v0')"
   ]
  },
  {
   "cell_type": "markdown",
   "metadata": {},
   "source": [
    "### Agent"
   ]
  },
  {
   "cell_type": "code",
   "execution_count": 74,
   "metadata": {
    "ExecuteTime": {
     "end_time": "2020-04-22T16:06:58.563338Z",
     "start_time": "2020-04-22T16:06:58.545351Z"
    }
   },
   "outputs": [],
   "source": [
    "position_boundaries = (env.observation_space.low[0], env.observation_space.high[0])\n",
    "velocity_boundaries = (env.observation_space.low[1], env.observation_space.high[1])\n",
    "\n",
    "agent_init = {\n",
    "    'discount_factor': 0.95, \n",
    "    'learning_rate': 0.5, \n",
    "    'epsilon': 0.0001,\n",
    "    'num_action': env.action_space.n,\n",
    "    'max_position_init': position_boundaries[0],\n",
    "    'max_position_reward_bonus': 2,\n",
    "    'tile_coder': {\n",
    "        'num_tiles': 8,\n",
    "        'num_tilings': 20,\n",
    "        'hash_size': 4096,\n",
    "        'position_boundaries': position_boundaries, \n",
    "        'velocity_boundaries': velocity_boundaries\n",
    "    }\n",
    "}\n",
    "q_learning_agent = agent.QLearningAgent(agent_init)"
   ]
  },
  {
   "cell_type": "markdown",
   "metadata": {},
   "source": [
    "### RUN"
   ]
  },
  {
   "cell_type": "code",
   "execution_count": 75,
   "metadata": {
    "ExecuteTime": {
     "end_time": "2020-04-22T16:06:59.378135Z",
     "start_time": "2020-04-22T16:06:59.365222Z"
    }
   },
   "outputs": [],
   "source": [
    "timesteps_per_episode = list()\n",
    "rewards_per_episode = list()\n",
    "epoch_size = 50\n",
    "n_episode = 1500\n",
    "t_max_per_episode = 200\n",
    "verbose = False\n",
    "graphical = False"
   ]
  },
  {
   "cell_type": "code",
   "execution_count": 76,
   "metadata": {
    "ExecuteTime": {
     "end_time": "2020-04-22T16:07:52.829384Z",
     "start_time": "2020-04-22T16:06:59.850200Z"
    }
   },
   "outputs": [
    {
     "name": "stderr",
     "output_type": "stream",
     "text": [
      "100%|██████████| 1500/1500 [00:52<00:00, 28.32it/s]\n"
     ]
    }
   ],
   "source": [
    "assert n_episode % epoch_size == 0, f\"epoch_size ({epoch_size}) must be a divisor of n_episode ({n_episode})\"\n",
    "\n",
    "for i_episode in tqdm(range(n_episode)):\n",
    "    \n",
    "    rewards = 0\n",
    "    state = env.reset()\n",
    "    next_action = q_learning_agent.episode_init(state)\n",
    "    \n",
    "    for t in range(t_max_per_episode):\n",
    "        if graphical:\n",
    "            env.render()\n",
    "            \n",
    "        state, reward, done, info = env.step(next_action)\n",
    "        #reward = q_learning_agent.max_position_reward_function(state[0], reward)\n",
    "        next_action = q_learning_agent.update(state, reward, done)\n",
    "        rewards += reward\n",
    "        if done:\n",
    "            break\n",
    "    timesteps_per_episode.append(t)\n",
    "    rewards_per_episode.append(rewards)\n",
    "    \n",
    "env.close()"
   ]
  },
  {
   "cell_type": "markdown",
   "metadata": {
    "ExecuteTime": {
     "end_time": "2020-04-20T16:41:35.159385Z",
     "start_time": "2020-04-20T16:41:35.155180Z"
    }
   },
   "source": [
    "### ANALYSIS"
   ]
  },
  {
   "cell_type": "code",
   "execution_count": 77,
   "metadata": {
    "ExecuteTime": {
     "end_time": "2020-04-22T16:07:53.158925Z",
     "start_time": "2020-04-22T16:07:53.148932Z"
    }
   },
   "outputs": [
    {
     "data": {
      "text/plain": [
       "82"
      ]
     },
     "execution_count": 77,
     "metadata": {},
     "output_type": "execute_result"
    }
   ],
   "source": [
    "timesteps_per_episode = np.array(timesteps_per_episode)\n",
    "timesteps_per_episode.min()"
   ]
  },
  {
   "cell_type": "code",
   "execution_count": 81,
   "metadata": {
    "ExecuteTime": {
     "end_time": "2020-04-22T16:09:09.040097Z",
     "start_time": "2020-04-22T16:09:08.753734Z"
    }
   },
   "outputs": [
    {
     "data": {
      "text/plain": [
       "[<matplotlib.lines.Line2D at 0x7f08047f0c88>]"
      ]
     },
     "execution_count": 81,
     "metadata": {},
     "output_type": "execute_result"
    },
    {
     "data": {
      "image/png": "[encoded data removed]",
      "text/plain": [
       "<Figure size 432x288 with 1 Axes>"
      ]
     },
     "metadata": {
      "needs_background": "light"
     },
     "output_type": "display_data"
    }
   ],
   "source": [
    "timesteps_per_episode_rolling_mean = utils.moving_average(timesteps_per_episode, n=20)\n",
    "plt.plot(range(len(timesteps_per_episode_rolling_mean)), timesteps_per_episode_rolling_mean)"
   ]
  },
  {
   "cell_type": "code",
   "execution_count": 79,
   "metadata": {
    "ExecuteTime": {
     "end_time": "2020-04-22T16:07:54.402535Z",
     "start_time": "2020-04-22T16:07:53.973789Z"
    }
   },
   "outputs": [
    {
     "data": {
      "text/plain": [
       "[<matplotlib.lines.Line2D at 0x7f08048cc320>]"
      ]
     },
     "execution_count": 79,
     "metadata": {},
     "output_type": "execute_result"
    },
    {
     "data": {
      "image/png": "[encoded data removed]",
      "text/plain": [
       "<Figure size 432x288 with 1 Axes>"
      ]
     },
     "metadata": {
      "needs_background": "light"
     },
     "output_type": "display_data"
    }
   ],
   "source": [
    "plt.plot(range(n_episode), timesteps_per_episode)"
   ]
  },
  {
   "cell_type": "code",
   "execution_count": 14,
   "metadata": {
    "ExecuteTime": {
     "end_time": "2020-04-22T13:32:34.538831Z",
     "start_time": "2020-04-22T13:32:34.255614Z"
    }
   },
   "outputs": [
    {
     "data": {
      "text/plain": [
       "[<matplotlib.lines.Line2D at 0x7f08052c2978>]"
      ]
     },
     "execution_count": 14,
     "metadata": {},
     "output_type": "execute_result"
    },
    {
     "data": {
      "image/png": "[encoded data removed]",
      "text/plain": [
       "<Figure size 432x288 with 1 Axes>"
      ]
     },
     "metadata": {
      "needs_background": "light"
     },
     "output_type": "display_data"
    }
   ],
   "source": [
    "plt.plot(range(int(n_episode/epoch_size)), timesteps_per_episode.reshape(epoch_size, int(n_episode/epoch_size)).mean(axis=0))"
   ]
  },
  {
   "cell_type": "code",
   "execution_count": 10,
   "metadata": {
    "ExecuteTime": {
     "end_time": "2020-04-21T14:30:09.040405Z",
     "start_time": "2020-04-21T14:30:08.735128Z"
    }
   },
   "outputs": [
    {
     "data": {
      "text/plain": [
       "[<matplotlib.lines.Line2D at 0x7f5fa6aff710>]"
      ]
     },
     "execution_count": 10,
     "metadata": {},
     "output_type": "execute_result"
    },
    {
     "data": {
      "image/png": "[encoded data removed]",
      "text/plain": [
       "<Figure size 432x288 with 1 Axes>"
      ]
     },
     "metadata": {
      "needs_background": "light"
     },
     "output_type": "display_data"
    }
   ],
   "source": [
    "rewards_per_episode = np.array(rewards_per_episode)\n",
    "plt.plot(range(n_episode), rewards_per_episode)"
   ]
  },
  {
   "cell_type": "code",
   "execution_count": 15,
   "metadata": {
    "ExecuteTime": {
     "end_time": "2020-04-22T13:07:55.882936Z",
     "start_time": "2020-04-22T13:07:55.877553Z"
    }
   },
   "outputs": [],
   "source": [
    "env.close()"
   ]
  },
  {
   "cell_type": "code",
   "execution_count": 21,
   "metadata": {
    "ExecuteTime": {
     "end_time": "2020-04-22T13:42:03.196170Z",
     "start_time": "2020-04-22T13:42:03.183430Z"
    }
   },
   "outputs": [
    {
     "data": {
      "text/plain": [
       "array([[ 91.84806772,  66.39282485,  54.78360347, ...,   0.        ,\n",
       "          0.        ,   0.        ],\n",
       "       [ -2.63068936,  -2.64129066,  -2.8070648 , ...,   0.        ,\n",
       "          0.        ,   0.        ],\n",
       "       [516.66266669, 531.73090148, 692.22956407, ...,   0.        ,\n",
       "          0.        ,   0.        ]])"
      ]
     },
     "execution_count": 21,
     "metadata": {},
     "output_type": "execute_result"
    }
   ],
   "source": [
    "q_learning_agent.w"
   ]
  },
  {
   "cell_type": "code",
   "execution_count": 73,
   "metadata": {
    "ExecuteTime": {
     "end_time": "2020-04-22T16:06:49.241818Z",
     "start_time": "2020-04-22T16:06:49.234775Z"
    }
   },
   "outputs": [
    {
     "data": {
      "text/plain": [
       "0.7"
      ]
     },
     "execution_count": 73,
     "metadata": {},
     "output_type": "execute_result"
    }
   ],
   "source": [
    "q_learning_agent.learning_rate*20"
   ]
  },
  {
   "cell_type": "code",
   "execution_count": null,
   "metadata": {},
   "outputs": [],
   "source": []
  },
  {
   "cell_type": "code",
   "execution_count": null,
   "metadata": {},
   "outputs": [],
   "source": []
  },
  {
   "cell_type": "code",
   "execution_count": null,
   "metadata": {},
   "outputs": [],
   "source": []
  }
 ],
 "metadata": {
  "kernelspec": {
   "display_name": "Python 3",
   "language": "python",
   "name": "python3"
  },
  "language_info": {
   "codemirror_mode": {
    "name": "ipython",
    "version": 3
   },
   "file_extension": ".py",
   "mimetype": "text/x-python",
   "name": "python",
   "nbconvert_exporter": "python",
   "pygments_lexer": "ipython3",
   "version": "3.6.8"
  },
  "toc": {
   "base_numbering": 1,
   "nav_menu": {},
   "number_sections": true,
   "sideBar": true,
   "skip_h1_title": false,
   "title_cell": "Table of Contents",
   "title_sidebar": "Contents",
   "toc_cell": false,
   "toc_position": {},
   "toc_section_display": true,
   "toc_window_display": false
  },
  "varInspector": {
   "cols": {
    "lenName": 16,
    "lenType": 16,
    "lenVar": 40
   },
   "kernels_config": {
    "python": {
     "delete_cmd_postfix": "",
     "delete_cmd_prefix": "del ",
     "library": "var_list.py",
     "varRefreshCmd": "print(var_dic_list())"
    },
    "r": {
     "delete_cmd_postfix": ") ",
     "delete_cmd_prefix": "rm(",
     "library": "var_list.r",
     "varRefreshCmd": "cat(var_dic_list()) "
    }
   },
   "types_to_exclude": [
    "module",
    "function",
    "builtin_function_or_method",
    "instance",
    "_Feature"
   ],
   "window_display": false
  }
 },
 "nbformat": 4,
 "nbformat_minor": 2
}

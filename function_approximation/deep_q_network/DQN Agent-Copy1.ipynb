{
 "cells": [
  {
   "cell_type": "code",
   "execution_count": 1,
   "metadata": {
    "ExecuteTime": {
     "end_time": "2020-05-04T01:33:40.165193Z",
     "start_time": "2020-05-04T01:33:39.601811Z"
    }
   },
   "outputs": [],
   "source": [
    "import gym\n",
    "import agent as my_agent\n",
    "import torch\n",
    "import variable as v\n",
    "from tqdm import tqdm\n",
    "import utils\n",
    "import matplotlib.pyplot as plt\n",
    "from copy import deepcopy"
   ]
  },
  {
   "cell_type": "code",
   "execution_count": 2,
   "metadata": {
    "ExecuteTime": {
     "end_time": "2020-05-04T01:33:40.647744Z",
     "start_time": "2020-05-04T01:33:40.621093Z"
    }
   },
   "outputs": [],
   "source": [
    "env = gym.make('LunarLander-v2')\n",
    "train_session = None"
   ]
  },
  {
   "cell_type": "code",
   "execution_count": 3,
   "metadata": {
    "ExecuteTime": {
     "end_time": "2020-05-04T01:33:41.046897Z",
     "start_time": "2020-05-04T01:33:41.042933Z"
    }
   },
   "outputs": [],
   "source": [
    "num_action = env.action_space.n\n",
    "dim_state = env.observation_space.shape[0]\n",
    "seed = 78"
   ]
  },
  {
   "cell_type": "markdown",
   "metadata": {},
   "source": [
    "## Base Agent"
   ]
  },
  {
   "cell_type": "code",
   "execution_count": 4,
   "metadata": {
    "ExecuteTime": {
     "end_time": "2020-05-04T01:33:41.545900Z",
     "start_time": "2020-05-04T01:33:41.530999Z"
    }
   },
   "outputs": [],
   "source": [
    "nn_archi = [{'type': 'linear', 'in': dim_state, 'out': 64, 'activation': 'relu'}, \n",
    "            #{'type': 'linear', 'in': 512, 'out': 256, 'activation': 'relu'},\n",
    "            {'type': 'linear', 'in': 64, 'out': num_action, 'activation': 'None'}]\n",
    "base_agent_init = {\n",
    "    'seed': seed,\n",
    "    'policy_type': 'softmax',\n",
    "    'temperature': 0.75,\n",
    "    'exploration_rate': {\n",
    "        'er': .001,\n",
    "        'max_er': 1,\n",
    "        'min_er': 0.0,\n",
    "        'decay_er': 0.01,\n",
    "        'constant_er': True\n",
    "    },\n",
    "    'num_action': num_action,\n",
    "    'max_position_init': .04,\n",
    "    'max_position_reward_bonus': 0.0,\n",
    "    'neural_network_handler': {\n",
    "        'seed': seed,\n",
    "        'discount_factor': .99,\n",
    "        'nn_archi': nn_archi,\n",
    "        \"eval_train_delay\": 300\n",
    "    },\n",
    "    'replay_buffer': {'buffer_size': 25000, \n",
    "                      'mini_batch_size': 64, \n",
    "                      'seed': seed},\n",
    "    'optim': {'lr': 5e-4},\n",
    "    'early_stop': {\n",
    "        'skip_training_threshold': 180.0, \n",
    "        'stop_training_threshold': 200.0, \n",
    "        'episode_window_skip': 10, \n",
    "        'episode_window_stop': 100\n",
    "    }\n",
    "}"
   ]
  },
  {
   "cell_type": "markdown",
   "metadata": {},
   "source": [
    "### To compare Agent(s)"
   ]
  },
  {
   "cell_type": "code",
   "execution_count": 5,
   "metadata": {
    "ExecuteTime": {
     "end_time": "2020-05-04T01:33:42.033975Z",
     "start_time": "2020-05-04T01:33:42.021578Z"
    }
   },
   "outputs": [
    {
     "name": "stdout",
     "output_type": "stream",
     "text": [
      "Train Session reset\n"
     ]
    }
   ],
   "source": [
    "if not train_session:\n",
    "    print('Train Session reset')\n",
    "    train_session = utils.TrainSession({}, env, seed)"
   ]
  },
  {
   "cell_type": "code",
   "execution_count": 6,
   "metadata": {
    "ExecuteTime": {
     "end_time": "2020-05-04T01:33:42.617948Z",
     "start_time": "2020-05-04T01:33:42.610038Z"
    }
   },
   "outputs": [
    {
     "data": {
      "text/plain": [
       "dict_values([180.0, 200.0, 10, 100])"
      ]
     },
     "execution_count": 6,
     "metadata": {},
     "output_type": "execute_result"
    }
   ],
   "source": [
    "\n",
    "base_agent_init[\"early_stop\"].values()"
   ]
  },
  {
   "cell_type": "code",
   "execution_count": 7,
   "metadata": {
    "ExecuteTime": {
     "end_time": "2020-05-04T01:33:43.155479Z",
     "start_time": "2020-05-04T01:33:43.134183Z"
    }
   },
   "outputs": [
    {
     "name": "stdout",
     "output_type": "stream",
     "text": [
      "Agents added: \n",
      "- early_stop_skip_training_threshold:180.0;early_stop_stop_training_threshold:200.0;\n",
      "- early_stop_skip_training_threshold:180.0;early_stop_stop_training_threshold:inf;\n",
      "- early_stop_skip_training_threshold:inf;early_stop_stop_training_threshold:200.0;\n",
      "- early_stop_skip_training_threshold:inf;early_stop_stop_training_threshold:inf;\n"
     ]
    }
   ],
   "source": [
    "tuned_parameters = {('early_stop', 'skip_training_threshold'): [180.0, float(\"inf\")],\n",
    "                    ('early_stop', 'stop_training_threshold'): [200.0, float(\"inf\")]}\n",
    "\n",
    "\n",
    "last_added_agent_names = train_session.parameter_grid_append(my_agent.DQN, base_agent_init, tuned_parameters)\n",
    "s = '\\n- '.join(last_added_agent_names)\n",
    "print(f\"Agents added: \\n- {s}\")"
   ]
  },
  {
   "cell_type": "code",
   "execution_count": 8,
   "metadata": {
    "ExecuteTime": {
     "end_time": "2020-05-04T01:16:20.430240Z",
     "start_time": "2020-05-04T01:16:20.424055Z"
    }
   },
   "outputs": [
    {
     "name": "stdout",
     "output_type": "stream",
     "text": [
      "All Agents: \n",
      "- early_stop_skip_training_threshold:180.0;early_stop_stop_training_threshold:200.0;\n",
      "- early_stop_skip_training_threshold:180.0;early_stop_stop_training_threshold:400.0;\n",
      "- early_stop_skip_training_threshold:400.0;early_stop_stop_training_threshold:200.0;\n",
      "- early_stop_skip_training_threshold:400.0;early_stop_stop_training_threshold:400.0;\n"
     ]
    }
   ],
   "source": [
    "all_agent_names = train_session.agents.keys()\n",
    "s = '\\n- '.join(all_agent_names)\n",
    "print(f\"All Agents: \\n- {s}\")"
   ]
  },
  {
   "cell_type": "code",
   "execution_count": 8,
   "metadata": {
    "ExecuteTime": {
     "end_time": "2020-05-04T01:34:17.331860Z",
     "start_time": "2020-05-04T01:34:17.322903Z"
    }
   },
   "outputs": [],
   "source": [
    "n_episode = 700\n",
    "t_max_per_episode = 300\n",
    "graphical = False\n",
    "selected_agent_names = ['early_stop_skip_training_threshold:180.0;early_stop_stop_training_threshold:200.0;', \n",
    "                        'early_stop_skip_training_threshold:inf;early_stop_stop_training_threshold:inf;']"
   ]
  },
  {
   "cell_type": "code",
   "execution_count": null,
   "metadata": {
    "ExecuteTime": {
     "start_time": "2020-05-04T01:34:18.451Z"
    },
    "scrolled": true
   },
   "outputs": [
    {
     "name": "stderr",
     "output_type": "stream",
     "text": [
      "100%|██████████| 700/700 [03:45<00:00,  3.10it/s]\n",
      " 79%|███████▊  | 551/700 [05:14<03:13,  1.30s/it]"
     ]
    }
   ],
   "source": [
    "train_session.train(n_episode=n_episode, graphical=graphical, agent_subset=selected_agent_names)"
   ]
  },
  {
   "cell_type": "code",
   "execution_count": null,
   "metadata": {
    "ExecuteTime": {
     "start_time": "2020-05-04T01:34:23.701Z"
    }
   },
   "outputs": [],
   "source": [
    "train_session.plot_results(window=50, agent_subset=selected_agent_names)"
   ]
  },
  {
   "cell_type": "code",
   "execution_count": null,
   "metadata": {
    "ExecuteTime": {
     "end_time": "2020-05-03T23:13:05.030598Z",
     "start_time": "2020-05-03T23:13:04.640868Z"
    }
   },
   "outputs": [],
   "source": [
    "fig = plt.figure(figsize=(20, 10))\n",
    "plt.plot(x, x)"
   ]
  }
 ],
 "metadata": {
  "kernelspec": {
   "display_name": "Python 3",
   "language": "python",
   "name": "python3"
  },
  "language_info": {
   "codemirror_mode": {
    "name": "ipython",
    "version": 3
   },
   "file_extension": ".py",
   "mimetype": "text/x-python",
   "name": "python",
   "nbconvert_exporter": "python",
   "pygments_lexer": "ipython3",
   "version": "3.6.8"
  },
  "toc": {
   "base_numbering": 1,
   "nav_menu": {},
   "number_sections": true,
   "sideBar": true,
   "skip_h1_title": false,
   "title_cell": "Table of Contents",
   "title_sidebar": "Contents",
   "toc_cell": false,
   "toc_position": {},
   "toc_section_display": true,
   "toc_window_display": false
  },
  "varInspector": {
   "cols": {
    "lenName": 16,
    "lenType": 16,
    "lenVar": 40
   },
   "kernels_config": {
    "python": {
     "delete_cmd_postfix": "",
     "delete_cmd_prefix": "del ",
     "library": "var_list.py",
     "varRefreshCmd": "print(var_dic_list())"
    },
    "r": {
     "delete_cmd_postfix": ") ",
     "delete_cmd_prefix": "rm(",
     "library": "var_list.r",
     "varRefreshCmd": "cat(var_dic_list()) "
    }
   },
   "types_to_exclude": [
    "module",
    "function",
    "builtin_function_or_method",
    "instance",
    "_Feature"
   ],
   "window_display": false
  }
 },
 "nbformat": 4,
 "nbformat_minor": 2
}

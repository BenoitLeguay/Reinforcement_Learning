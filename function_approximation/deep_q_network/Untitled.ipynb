{
 "cells": [
  {
   "cell_type": "code",
   "execution_count": 1,
   "metadata": {
    "ExecuteTime": {
     "end_time": "2020-04-28T21:24:26.515227Z",
     "start_time": "2020-04-28T21:24:25.881276Z"
    }
   },
   "outputs": [],
   "source": [
    "import gym\n",
    "import agent as my_agent\n",
    "import torch\n",
    "import variable as v\n",
    "from tqdm import tqdm\n",
    "import utils\n",
    "import matplotlib.pyplot as plt"
   ]
  },
  {
   "cell_type": "code",
   "execution_count": 2,
   "metadata": {
    "ExecuteTime": {
     "end_time": "2020-04-28T21:24:27.256793Z",
     "start_time": "2020-04-28T21:24:27.212123Z"
    }
   },
   "outputs": [],
   "source": [
    "env = gym.make('MountainCar-v0').env"
   ]
  },
  {
   "cell_type": "code",
   "execution_count": 3,
   "metadata": {
    "ExecuteTime": {
     "end_time": "2020-04-28T21:24:27.273358Z",
     "start_time": "2020-04-28T21:24:27.262414Z"
    }
   },
   "outputs": [],
   "source": [
    "num_action = env.action_space.n\n",
    "num_state = env.observation_space.shape[0]"
   ]
  },
  {
   "cell_type": "code",
   "execution_count": 4,
   "metadata": {
    "ExecuteTime": {
     "end_time": "2020-04-28T21:24:28.531955Z",
     "start_time": "2020-04-28T21:24:28.520308Z"
    }
   },
   "outputs": [],
   "source": [
    "nn_archi = [{'type': 'linear', 'in': num_state, 'out': 20, 'activation': 'None'}, \n",
    "            {'type': 'linear', 'in': 20, 'out': 40, 'activation': 'None'},\n",
    "            {'type': 'linear', 'in': 40, 'out': 20, 'activation': 'None'},\n",
    "            {'type': 'linear', 'in': 20, 'out': num_action, 'activation': 'None'}]\n",
    "agent_init = {\n",
    "    'discount_factor': .99,\n",
    "    'learning_rate': {},\n",
    "    'exploration_rate': {\n",
    "        'er': 0.0001,\n",
    "        'max_er': 1,\n",
    "        'min_er': 0.0,\n",
    "        'decay_er': 0.05,\n",
    "        'constant_er': False\n",
    "    },\n",
    "    'num_action': num_action,\n",
    "    'nn_archi': nn_archi,\n",
    "    'max_position_init': .04,\n",
    "    'max_position_reward_bonus': 10\n",
    "}"
   ]
  },
  {
   "cell_type": "code",
   "execution_count": 5,
   "metadata": {
    "ExecuteTime": {
     "end_time": "2020-04-28T21:24:29.207905Z",
     "start_time": "2020-04-28T21:24:29.191686Z"
    }
   },
   "outputs": [],
   "source": [
    "dqn_agent = my_agent.DQN(agent_init)"
   ]
  },
  {
   "cell_type": "code",
   "execution_count": 6,
   "metadata": {
    "ExecuteTime": {
     "end_time": "2020-04-28T21:24:30.427432Z",
     "start_time": "2020-04-28T21:24:30.421701Z"
    }
   },
   "outputs": [],
   "source": [
    "timesteps_per_episode = list()\n",
    "rewards_per_episode = list()\n",
    "epoch_size = 20\n",
    "n_episode = 3000\n",
    "t_max_per_episode = 300\n",
    "verbose = False\n",
    "graphical = False"
   ]
  },
  {
   "cell_type": "code",
   "execution_count": 7,
   "metadata": {
    "ExecuteTime": {
     "end_time": "2020-04-28T21:33:07.572768Z",
     "start_time": "2020-04-28T21:24:32.233707Z"
    }
   },
   "outputs": [
    {
     "name": "stderr",
     "output_type": "stream",
     "text": [
      "100%|██████████| 3000/3000 [08:35<00:00,  5.82it/s]\n"
     ]
    }
   ],
   "source": [
    "for i_episode in tqdm(range(n_episode)):\n",
    "    \n",
    "    rewards = 0\n",
    "    state = env.reset()\n",
    "    next_action = dqn_agent.episode_init(state)\n",
    "    \n",
    "    for t in range(t_max_per_episode):\n",
    "        if graphical:\n",
    "            env.render()\n",
    "            \n",
    "        state, reward, done, info = env.step(next_action)\n",
    "        reward = dqn_agent.max_position_reward_function(state[0], reward)\n",
    "        next_action = dqn_agent.update(state, reward, done)\n",
    "        \n",
    "        rewards += reward\n",
    "        \n",
    "        if done:\n",
    "            break\n",
    "    timesteps_per_episode.append(t)\n",
    "    rewards_per_episode.append(rewards)\n",
    "    \n",
    "    dqn_agent.exploration_handler.next()\n",
    "    \n",
    "env.close()"
   ]
  },
  {
   "cell_type": "code",
   "execution_count": 8,
   "metadata": {
    "ExecuteTime": {
     "end_time": "2020-04-28T21:36:45.118969Z",
     "start_time": "2020-04-28T21:36:45.102444Z"
    }
   },
   "outputs": [
    {
     "data": {
      "text/plain": [
       "299"
      ]
     },
     "execution_count": 8,
     "metadata": {},
     "output_type": "execute_result"
    }
   ],
   "source": [
    "timesteps_per_episode = np.array(timesteps_per_episode)\n",
    "timesteps_per_episode.max()"
   ]
  },
  {
   "cell_type": "code",
   "execution_count": 9,
   "metadata": {
    "ExecuteTime": {
     "end_time": "2020-04-28T21:36:46.440898Z",
     "start_time": "2020-04-28T21:36:46.124595Z"
    }
   },
   "outputs": [
    {
     "data": {
      "text/plain": [
       "[<matplotlib.lines.Line2D at 0x7f1ce1d9b6a0>]"
      ]
     },
     "execution_count": 9,
     "metadata": {},
     "output_type": "execute_result"
    },
    {
     "data": {
      "image/png": "[encoded data removed]",
      "text/plain": [
       "<Figure size 432x288 with 1 Axes>"
      ]
     },
     "metadata": {
      "needs_background": "light"
     },
     "output_type": "display_data"
    }
   ],
   "source": [
    "timesteps_per_episode_rolling_mean = utils.moving_average(timesteps_per_episode, n=100)\n",
    "plt.plot(range(len(timesteps_per_episode_rolling_mean)), timesteps_per_episode_rolling_mean)"
   ]
  },
  {
   "cell_type": "code",
   "execution_count": 11,
   "metadata": {
    "ExecuteTime": {
     "end_time": "2020-04-28T21:21:29.413567Z",
     "start_time": "2020-04-28T21:21:29.012199Z"
    }
   },
   "outputs": [
    {
     "data": {
      "text/plain": [
       "[<matplotlib.lines.Line2D at 0x7ffa05a1ca90>]"
      ]
     },
     "execution_count": 11,
     "metadata": {},
     "output_type": "execute_result"
    },
    {
     "data": {
      "image/png": "[encoded data removed]",
      "text/plain": [
       "<Figure size 432x288 with 1 Axes>"
      ]
     },
     "metadata": {
      "needs_background": "light"
     },
     "output_type": "display_data"
    }
   ],
   "source": [
    "loss_history_moving_avg = utils.moving_average(dqn_agent.nn_handler.loss_history, n=100)\n",
    "\n",
    "plt.plot(range(len(loss_history_moving_avg)),loss_history_moving_avg)"
   ]
  },
  {
   "cell_type": "code",
   "execution_count": 12,
   "metadata": {
    "ExecuteTime": {
     "end_time": "2020-04-28T21:21:36.952344Z",
     "start_time": "2020-04-28T21:21:36.915570Z"
    }
   },
   "outputs": [
    {
     "data": {
      "text/plain": [
       "20.0"
      ]
     },
     "execution_count": 12,
     "metadata": {},
     "output_type": "execute_result"
    }
   ],
   "source": [
    "rewards_per_episode = np.array(rewards_per_episode)\n",
    "rewards_per_episode.max()"
   ]
  },
  {
   "cell_type": "code",
   "execution_count": 13,
   "metadata": {
    "ExecuteTime": {
     "end_time": "2020-04-28T21:21:38.106057Z",
     "start_time": "2020-04-28T21:21:37.753740Z"
    }
   },
   "outputs": [
    {
     "data": {
      "text/plain": [
       "[<matplotlib.lines.Line2D at 0x7ffa059ffa58>]"
      ]
     },
     "execution_count": 13,
     "metadata": {},
     "output_type": "execute_result"
    },
    {
     "data": {
      "image/png": "[encoded data removed]",
      "text/plain": [
       "<Figure size 432x288 with 1 Axes>"
      ]
     },
     "metadata": {
      "needs_background": "light"
     },
     "output_type": "display_data"
    }
   ],
   "source": [
    "rewards_per_episode_rolling_mean = utils.moving_average(rewards_per_episode, n=1)\n",
    "plt.plot(range(len(rewards_per_episode_rolling_mean)), rewards_per_episode_rolling_mean)"
   ]
  },
  {
   "cell_type": "code",
   "execution_count": null,
   "metadata": {
    "ExecuteTime": {
     "start_time": "2020-04-28T20:44:32.691Z"
    }
   },
   "outputs": [],
   "source": [
    "next_state = env.reset()\n",
    "next_state_tensor = torch.tensor([\n",
    "            next_state[0],\n",
    "            next_state[1]\n",
    "        ]).type(torch.FloatTensor)\n",
    "values = dqn_agent.nn_handler.nn(next_state_tensor)"
   ]
  },
  {
   "cell_type": "code",
   "execution_count": null,
   "metadata": {
    "ExecuteTime": {
     "start_time": "2020-04-28T20:44:32.697Z"
    }
   },
   "outputs": [],
   "source": [
    "values.unsqueeze(1).shape"
   ]
  },
  {
   "cell_type": "code",
   "execution_count": null,
   "metadata": {
    "ExecuteTime": {
     "start_time": "2020-04-28T20:44:32.700Z"
    }
   },
   "outputs": [],
   "source": [
    "next_state"
   ]
  },
  {
   "cell_type": "code",
   "execution_count": null,
   "metadata": {
    "ExecuteTime": {
     "start_time": "2020-04-28T20:44:32.706Z"
    }
   },
   "outputs": [],
   "source": [
    "values"
   ]
  },
  {
   "cell_type": "code",
   "execution_count": null,
   "metadata": {
    "ExecuteTime": {
     "start_time": "2020-04-28T20:44:32.710Z"
    }
   },
   "outputs": [],
   "source": [
    "max_value = values.max(0)[0]"
   ]
  },
  {
   "cell_type": "code",
   "execution_count": null,
   "metadata": {
    "ExecuteTime": {
     "start_time": "2020-04-28T20:44:32.715Z"
    }
   },
   "outputs": [],
   "source": [
    "max_value"
   ]
  },
  {
   "cell_type": "code",
   "execution_count": null,
   "metadata": {
    "ExecuteTime": {
     "start_time": "2020-04-28T20:44:32.721Z"
    }
   },
   "outputs": [],
   "source": [
    "values[0]"
   ]
  },
  {
   "cell_type": "code",
   "execution_count": null,
   "metadata": {
    "ExecuteTime": {
     "start_time": "2020-04-28T20:44:32.726Z"
    }
   },
   "outputs": [],
   "source": [
    "values[max_value] = values[0] * .99 + 1.0"
   ]
  },
  {
   "cell_type": "code",
   "execution_count": null,
   "metadata": {
    "ExecuteTime": {
     "start_time": "2020-04-28T20:44:32.730Z"
    }
   },
   "outputs": [],
   "source": [
    "values"
   ]
  },
  {
   "cell_type": "code",
   "execution_count": null,
   "metadata": {
    "ExecuteTime": {
     "start_time": "2020-04-28T20:44:32.733Z"
    }
   },
   "outputs": [],
   "source": [
    "class NeuralNetworkHandler(torch.nn.Module):\n",
    "    def return_state_tensor(state):\n",
    "        return state\n"
   ]
  },
  {
   "cell_type": "code",
   "execution_count": null,
   "metadata": {
    "ExecuteTime": {
     "start_time": "2020-04-28T20:44:32.737Z"
    }
   },
   "outputs": [],
   "source": [
    "def a(nn_archi):\n",
    "    layers = list()\n",
    "\n",
    "    for layer_args in nn_archi:\n",
    "        layer_type = layer_args['type']\n",
    "        in_features, out_features, activation = layer_args[\"in\"], layer_args[\"out\"], layer_args[\"activation\"]\n",
    "        layers.append(v.layer_name_to_obj[layer_type](in_features, out_features))\n",
    "        layers.append(v.activation_name_to_obj[activation]())\n",
    "        \n",
    "    return layers"
   ]
  },
  {
   "cell_type": "code",
   "execution_count": null,
   "metadata": {
    "ExecuteTime": {
     "start_time": "2020-04-28T20:44:32.743Z"
    }
   },
   "outputs": [],
   "source": [
    "l = a(nn_archi)"
   ]
  },
  {
   "cell_type": "code",
   "execution_count": null,
   "metadata": {
    "ExecuteTime": {
     "start_time": "2020-04-28T20:44:32.748Z"
    }
   },
   "outputs": [],
   "source": [
    "l"
   ]
  },
  {
   "cell_type": "code",
   "execution_count": null,
   "metadata": {
    "ExecuteTime": {
     "start_time": "2020-04-28T20:44:32.753Z"
    }
   },
   "outputs": [],
   "source": [
    "NeuralNetworkHandler(*l)"
   ]
  },
  {
   "cell_type": "code",
   "execution_count": null,
   "metadata": {
    "ExecuteTime": {
     "start_time": "2020-04-28T20:44:32.757Z"
    }
   },
   "outputs": [],
   "source": [
    "def test(a, b=1, c=1):\n",
    "    return a+b+c"
   ]
  },
  {
   "cell_type": "code",
   "execution_count": null,
   "metadata": {
    "ExecuteTime": {
     "start_time": "2020-04-28T20:44:32.762Z"
    }
   },
   "outputs": [],
   "source": [
    "d = {'b': 2, 'c': 9}\n",
    "d1 = {'b': 2}"
   ]
  },
  {
   "cell_type": "code",
   "execution_count": null,
   "metadata": {
    "ExecuteTime": {
     "start_time": "2020-04-28T20:44:32.766Z"
    }
   },
   "outputs": [],
   "source": [
    "test(4, *d1.values())"
   ]
  },
  {
   "cell_type": "code",
   "execution_count": 9,
   "metadata": {
    "ExecuteTime": {
     "end_time": "2020-04-28T21:23:38.498547Z",
     "start_time": "2020-04-28T21:23:38.486134Z"
    }
   },
   "outputs": [],
   "source": [
    "env.close()"
   ]
  },
  {
   "cell_type": "code",
   "execution_count": null,
   "metadata": {},
   "outputs": [],
   "source": []
  }
 ],
 "metadata": {
  "kernelspec": {
   "display_name": "Python 3",
   "language": "python",
   "name": "python3"
  },
  "language_info": {
   "codemirror_mode": {
    "name": "ipython",
    "version": 3
   },
   "file_extension": ".py",
   "mimetype": "text/x-python",
   "name": "python",
   "nbconvert_exporter": "python",
   "pygments_lexer": "ipython3",
   "version": "3.6.8"
  },
  "toc": {
   "base_numbering": 1,
   "nav_menu": {},
   "number_sections": true,
   "sideBar": true,
   "skip_h1_title": false,
   "title_cell": "Table of Contents",
   "title_sidebar": "Contents",
   "toc_cell": false,
   "toc_position": {},
   "toc_section_display": true,
   "toc_window_display": false
  },
  "varInspector": {
   "cols": {
    "lenName": 16,
    "lenType": 16,
    "lenVar": 40
   },
   "kernels_config": {
    "python": {
     "delete_cmd_postfix": "",
     "delete_cmd_prefix": "del ",
     "library": "var_list.py",
     "varRefreshCmd": "print(var_dic_list())"
    },
    "r": {
     "delete_cmd_postfix": ") ",
     "delete_cmd_prefix": "rm(",
     "library": "var_list.r",
     "varRefreshCmd": "cat(var_dic_list()) "
    }
   },
   "types_to_exclude": [
    "module",
    "function",
    "builtin_function_or_method",
    "instance",
    "_Feature"
   ],
   "window_display": false
  }
 },
 "nbformat": 4,
 "nbformat_minor": 2
}

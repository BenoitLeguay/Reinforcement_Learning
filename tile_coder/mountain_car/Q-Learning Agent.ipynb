{
 "cells": [
  {
   "cell_type": "code",
   "execution_count": 1,
   "metadata": {
    "ExecuteTime": {
     "end_time": "2020-04-21T14:29:20.969962Z",
     "start_time": "2020-04-21T14:29:20.591180Z"
    }
   },
   "outputs": [],
   "source": [
    "import agent\n",
    "import gym\n",
    "import matplotlib.pyplot as plt"
   ]
  },
  {
   "cell_type": "markdown",
   "metadata": {},
   "source": [
    "### Environnement"
   ]
  },
  {
   "cell_type": "code",
   "execution_count": 2,
   "metadata": {
    "ExecuteTime": {
     "end_time": "2020-04-21T14:29:21.069963Z",
     "start_time": "2020-04-21T14:29:21.040862Z"
    }
   },
   "outputs": [],
   "source": [
    "env = gym.make('MountainCar-v0')"
   ]
  },
  {
   "cell_type": "markdown",
   "metadata": {},
   "source": [
    "### Agent"
   ]
  },
  {
   "cell_type": "code",
   "execution_count": 3,
   "metadata": {
    "ExecuteTime": {
     "end_time": "2020-04-21T14:29:21.284537Z",
     "start_time": "2020-04-21T14:29:21.277986Z"
    }
   },
   "outputs": [],
   "source": [
    "position_boundaries = (env.observation_space.low[0], env.observation_space.high[0])\n",
    "velocity_boundaries = (env.observation_space.low[1], env.observation_space.high[1])\n",
    "\n",
    "agent_init = {\n",
    "    'discount_factor': 1, \n",
    "    'learning_rate': 0.5, \n",
    "    'epsilon': 0.01,\n",
    "    'num_action': env.action_space.n,\n",
    "    'tile_coder': {\n",
    "        'num_tiles': 8,\n",
    "        'num_tilings': 20,\n",
    "        'hash_size': 4096,\n",
    "        'position_boundaries': position_boundaries, \n",
    "        'velocity_boundaries': velocity_boundaries\n",
    "    }\n",
    "}\n",
    "q_learning_agent = agent.QLearningAgent(agent_init)"
   ]
  },
  {
   "cell_type": "markdown",
   "metadata": {},
   "source": [
    "### RUN"
   ]
  },
  {
   "cell_type": "code",
   "execution_count": 5,
   "metadata": {
    "ExecuteTime": {
     "end_time": "2020-04-21T14:29:40.736833Z",
     "start_time": "2020-04-21T14:29:40.733369Z"
    }
   },
   "outputs": [],
   "source": [
    "timesteps_per_episode = list()\n",
    "rewards_per_episode = list()\n",
    "epoch_size = 50\n",
    "n_episode = 1000\n",
    "t_max_per_episode = 1000\n",
    "verbose = False"
   ]
  },
  {
   "cell_type": "code",
   "execution_count": 6,
   "metadata": {
    "ExecuteTime": {
     "end_time": "2020-04-21T14:30:07.859788Z",
     "start_time": "2020-04-21T14:29:40.817947Z"
    }
   },
   "outputs": [
    {
     "name": "stdout",
     "output_type": "stream",
     "text": [
      "0\n",
      "50\n",
      "100\n",
      "150\n",
      "200\n",
      "250\n",
      "300\n",
      "350\n",
      "400\n",
      "450\n",
      "500\n",
      "550\n",
      "600\n",
      "650\n",
      "700\n",
      "750\n",
      "800\n",
      "850\n",
      "900\n",
      "950\n"
     ]
    }
   ],
   "source": [
    "assert n_episode % epoch_size == 0, f\"epoch_size ({epoch_size}) must be a divisor of n_episode ({n_episode})\"\n",
    "\n",
    "for i_episode in range(n_episode):\n",
    "    state = env.reset()\n",
    "    rewards = 0\n",
    "    \n",
    "    for t in range(t_max_per_episode):\n",
    "        if verbose:\n",
    "            env.render()\n",
    "        action = q_learning_agent.choose_action(state)\n",
    "        state, reward, done, info = env.step(action)\n",
    "        q_learning_agent.update(state, reward, done)\n",
    "        rewards += reward\n",
    "        if done:\n",
    "            break\n",
    "    if i_episode % epoch_size == 0:\n",
    "        print(i_episode)\n",
    "    timesteps_per_episode.append(t)\n",
    "    rewards_per_episode.append(rewards)\n",
    "    \n",
    "env.close()"
   ]
  },
  {
   "cell_type": "markdown",
   "metadata": {
    "ExecuteTime": {
     "end_time": "2020-04-20T16:41:35.159385Z",
     "start_time": "2020-04-20T16:41:35.155180Z"
    }
   },
   "source": [
    "### ANALYSIS"
   ]
  },
  {
   "cell_type": "code",
   "execution_count": 7,
   "metadata": {
    "ExecuteTime": {
     "end_time": "2020-04-21T14:30:07.910295Z",
     "start_time": "2020-04-21T14:30:07.901369Z"
    }
   },
   "outputs": [
    {
     "data": {
      "text/plain": [
       "array([198.36, 198.08, 197.76, 198.24, 199.  , 199.  , 197.26, 197.62,\n",
       "       198.46, 197.76, 199.  , 197.78, 198.32, 198.14, 198.58, 198.34,\n",
       "       198.32, 198.08, 199.  , 198.8 ])"
      ]
     },
     "execution_count": 7,
     "metadata": {},
     "output_type": "execute_result"
    }
   ],
   "source": [
    "timesteps_per_episode = np.array(timesteps_per_episode)\n",
    "timesteps_per_episode.reshape(epoch_size, int(n_episode/epoch_size)).mean(axis=0)"
   ]
  },
  {
   "cell_type": "code",
   "execution_count": 8,
   "metadata": {
    "ExecuteTime": {
     "end_time": "2020-04-21T14:30:08.300181Z",
     "start_time": "2020-04-21T14:30:07.957119Z"
    }
   },
   "outputs": [
    {
     "data": {
      "text/plain": [
       "[<matplotlib.lines.Line2D at 0x7f5fa8c9b4a8>]"
      ]
     },
     "execution_count": 8,
     "metadata": {},
     "output_type": "execute_result"
    },
    {
     "data": {
      "image/png": "[encoded data removed]",
      "text/plain": [
       "<Figure size 432x288 with 1 Axes>"
      ]
     },
     "metadata": {
      "needs_background": "light"
     },
     "output_type": "display_data"
    }
   ],
   "source": [
    "plt.plot(range(n_episode), timesteps_per_episode)"
   ]
  },
  {
   "cell_type": "code",
   "execution_count": 9,
   "metadata": {
    "ExecuteTime": {
     "end_time": "2020-04-21T14:30:08.687413Z",
     "start_time": "2020-04-21T14:30:08.365126Z"
    }
   },
   "outputs": [
    {
     "data": {
      "text/plain": [
       "[<matplotlib.lines.Line2D at 0x7f5fa6b175c0>]"
      ]
     },
     "execution_count": 9,
     "metadata": {},
     "output_type": "execute_result"
    },
    {
     "data": {
      "image/png": "[encoded data removed]",
      "text/plain": [
       "<Figure size 432x288 with 1 Axes>"
      ]
     },
     "metadata": {
      "needs_background": "light"
     },
     "output_type": "display_data"
    }
   ],
   "source": [
    "plt.plot(range(int(n_episode/epoch_size)), timesteps_per_episode.reshape(epoch_size, int(n_episode/epoch_size)).mean(axis=0))"
   ]
  },
  {
   "cell_type": "code",
   "execution_count": 10,
   "metadata": {
    "ExecuteTime": {
     "end_time": "2020-04-21T14:30:09.040405Z",
     "start_time": "2020-04-21T14:30:08.735128Z"
    }
   },
   "outputs": [
    {
     "data": {
      "text/plain": [
       "[<matplotlib.lines.Line2D at 0x7f5fa6aff710>]"
      ]
     },
     "execution_count": 10,
     "metadata": {},
     "output_type": "execute_result"
    },
    {
     "data": {
      "image/png": "[encoded data removed]",
      "text/plain": [
       "<Figure size 432x288 with 1 Axes>"
      ]
     },
     "metadata": {
      "needs_background": "light"
     },
     "output_type": "display_data"
    }
   ],
   "source": [
    "rewards_per_episode = np.array(rewards_per_episode)\n",
    "plt.plot(range(n_episode), rewards_per_episode)"
   ]
  },
  {
   "cell_type": "code",
   "execution_count": null,
   "metadata": {},
   "outputs": [],
   "source": []
  },
  {
   "cell_type": "code",
   "execution_count": null,
   "metadata": {},
   "outputs": [],
   "source": []
  }
 ],
 "metadata": {
  "kernelspec": {
   "display_name": "Python 3",
   "language": "python",
   "name": "python3"
  },
  "language_info": {
   "codemirror_mode": {
    "name": "ipython",
    "version": 3
   },
   "file_extension": ".py",
   "mimetype": "text/x-python",
   "name": "python",
   "nbconvert_exporter": "python",
   "pygments_lexer": "ipython3",
   "version": "3.6.8"
  },
  "toc": {
   "base_numbering": 1,
   "nav_menu": {},
   "number_sections": true,
   "sideBar": true,
   "skip_h1_title": false,
   "title_cell": "Table of Contents",
   "title_sidebar": "Contents",
   "toc_cell": false,
   "toc_position": {},
   "toc_section_display": true,
   "toc_window_display": false
  },
  "varInspector": {
   "cols": {
    "lenName": 16,
    "lenType": 16,
    "lenVar": 40
   },
   "kernels_config": {
    "python": {
     "delete_cmd_postfix": "",
     "delete_cmd_prefix": "del ",
     "library": "var_list.py",
     "varRefreshCmd": "print(var_dic_list())"
    },
    "r": {
     "delete_cmd_postfix": ") ",
     "delete_cmd_prefix": "rm(",
     "library": "var_list.r",
     "varRefreshCmd": "cat(var_dic_list()) "
    }
   },
   "types_to_exclude": [
    "module",
    "function",
    "builtin_function_or_method",
    "instance",
    "_Feature"
   ],
   "window_display": false
  }
 },
 "nbformat": 4,
 "nbformat_minor": 2
}
